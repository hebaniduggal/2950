{
 "cells": [
  {
   "cell_type": "markdown",
   "metadata": {},
   "source": [
    "Hebani Duggal \n",
    "hd288 \n",
    "Problem Set 5"
   ]
  },
  {
   "cell_type": "code",
   "execution_count": 3,
   "metadata": {
    "collapsed": false
   },
   "outputs": [],
   "source": [
    "%matplotlib inline\n",
    "import matplotlib.pyplot as plt\n",
    "import numpy as np\n",
    "from ps5_data import results2012,results2016"
   ]
  },
  {
   "cell_type": "markdown",
   "metadata": {},
   "source": [
    "#3"
   ]
  },
  {
   "cell_type": "code",
   "execution_count": 4,
   "metadata": {
    "collapsed": false
   },
   "outputs": [],
   "source": [
    "Demvalue = []\n",
    "Repvalue = []\n",
    "ElectoralVotes = []\n",
    "\n",
    "\n",
    "for x in results2012: \n",
    "    Demvalue.append(results2012[x][\"Barack Obama\"])\n",
    "    Repvalue.append(results2012[x][\"Mitt Romney\"])\n",
    "    ElectoralVotes.append(results2012[x][\"electoral_votes\"])\n",
    "\n",
    "#print Demvalue\n",
    "#print Repvalue\n",
    "#print ElectoralVotes\n",
    "\n",
    "\n",
    "ObamaMargin = []\n",
    "RomneyMargin = []\n",
    "Electoral_Obama = []\n",
    "Electoral_Romney = []\n",
    "\n",
    "for d,r,e in zip(Demvalue, Repvalue, ElectoralVotes):\n",
    "    if d > r:\n",
    "        ObamaMargin.append(d - r)\n",
    "        Electoral_Obama.append(e)\n",
    "    elif d < r:\n",
    "        RomneyMargin.append(d - r)\n",
    "        Electoral_Romney.append(e)\n",
    "\n",
    "\n",
    "#print ObamaMargin\n",
    "#print RomneyMargin\n",
    "\n",
    "#print Electoral_Obama\n",
    "#print Electoral_Romney\n"
   ]
  },
  {
   "cell_type": "code",
   "execution_count": 5,
   "metadata": {
    "collapsed": false
   },
   "outputs": [
    {
     "data": {
      "text/plain": [
       "(-30, 30)"
      ]
     },
     "execution_count": 5,
     "metadata": {},
     "output_type": "execute_result"
    },
    {
     "data": {
      "image/png": "[encoded data removed]",
      "text/plain": [
       "<matplotlib.figure.Figure at 0x111e91710>"
      ]
     },
     "metadata": {},
     "output_type": "display_data"
    }
   ],
   "source": [
    "plt.hist(ObamaMargin,weights=Electoral_Obama,bins=range(-100,100,2))\n",
    "plt.hist(RomneyMargin,weights=Electoral_Romney,bins=range(-100,100,2),color='r')\n",
    "plt.xlabel('Margin')\n",
    "plt.ylabel('Electoral votes')\n",
    "plt.title('2012 Romney vs Obama results')\n",
    "plt.xlim(-30,30)"
   ]
  },
  {
   "cell_type": "code",
   "execution_count": 6,
   "metadata": {
    "collapsed": false
   },
   "outputs": [],
   "source": [
    "Demvalue2016 = []\n",
    "Repvalue2016 = []\n",
    "ElectoralVotes2016 = []\n",
    "\n",
    "\n",
    "for x in results2016: \n",
    "    Demvalue2016.append(results2016[x][\"Trump\"])\n",
    "    Repvalue2016.append(results2016[x][\"Clinton\"])\n",
    "    ElectoralVotes2016.append(results2016[x][\"electoral_votes\"])\n",
    "\n",
    "#print Demvalue2016\n",
    "#print Repvalue2016\n",
    "#print ElectoralVotes2016\n",
    "\n",
    "\n",
    "TrumpMargin = []\n",
    "ClintonMargin = []\n",
    "Electoral_Trump = []\n",
    "Electoral_Clinton = []\n",
    "\n",
    "for d,r,e in zip(Demvalue2016, Repvalue2016, ElectoralVotes2016):\n",
    "    if d > r:\n",
    "        TrumpMargin.append(d - r)\n",
    "        Electoral_Trump.append(e)\n",
    "    elif d < r:\n",
    "        ClintonMargin.append(d - r)\n",
    "        Electoral_Clinton.append(e)\n",
    "\n",
    "\n",
    "#print TrumpMargin\n",
    "#print TrumpMargin\n",
    "\n",
    "#print Electoral_Trump\n",
    "#print Electoral_Clinton"
   ]
  },
  {
   "cell_type": "code",
   "execution_count": 7,
   "metadata": {
    "collapsed": false
   },
   "outputs": [
    {
     "data": {
      "text/plain": [
       "(-30, 30)"
      ]
     },
     "execution_count": 7,
     "metadata": {},
     "output_type": "execute_result"
    },
    {
     "data": {
      "image/png": "[encoded data removed]",
      "text/plain": [
       "<matplotlib.figure.Figure at 0x112486a10>"
      ]
     },
     "metadata": {},
     "output_type": "display_data"
    }
   ],
   "source": [
    "plt.hist(ClintonMargin,weights=Electoral_Clinton,bins=range(-100,100,2))\n",
    "plt.hist(TrumpMargin,weights=Electoral_Trump,bins=range(-100,100,2),color='r')\n",
    "plt.xlabel('Margin')\n",
    "plt.ylabel('Electoral votes')\n",
    "plt.title('2016 Clinton vs Trump results')\n",
    "plt.xlim(-30,30)"
   ]
  },
  {
   "cell_type": "code",
   "execution_count": 8,
   "metadata": {
    "collapsed": true
   },
   "outputs": [],
   "source": [
    "from ps5_data import mean_std"
   ]
  },
  {
   "cell_type": "code",
   "execution_count": 15,
   "metadata": {
    "collapsed": false
   },
   "outputs": [
    {
     "name": "stdout",
     "output_type": "stream",
     "text": [
      "[(0.56507, 0.02945), (0.62966, 0.02823), (0.67359, 0.05806), (0.47137, 0.02844), (0.43545, 0.02747), (0.60312, 0.03011), (0.47116, 0.03149), (0.50937, 0.02701), (0.55779, 0.0269), (0.58052, 0.02694), (0.54279, 0.02673), (0.56253, 0.03028), (0.43679, 0.03076), (0.38568, 0.02623), (0.63251, 0.03557), (0.43797, 0.04467), (0.61495, 0.04951), (0.48157, 0.02607), (0.53699, 0.05514), (0.43118, 0.04959), (0.55043, 0.02703), (0.40489, 0.02714), (0.47976, 0.02779), (0.57768, 0.04791), (0.67958, 0.05698), (0.57637, 0.06162), (0.4426, 0.02917), (0.4334, 0.02863), (0.14865, 0.03356), (0.49399, 0.03007), (0.58891, 0.04021), (0.52006, 0.02572), (0.3716, 0.02711), (0.59801, 0.03442), (0.51129, 0.0276), (0.51457, 0.02982), (0.47908, 0.02731), (0.55299, 0.02973), (0.47237, 0.0265), (0.45426, 0.02915), (0.57491, 0.0399), (0.48207, 0.03609), (0.38318, 0.02997), (0.5347, 0.02741), (0.36336, 0.05597), (0.49688, 0.02702), (0.38131, 0.04353), (0.59121, 0.02796), (0.42834, 0.04687), (0.50842, 0.06375), (0.47335, 0.02795), (0.61163, 0.02711), (0.46272, 0.04098), (0.4966, 0.02665), (0.49779, 0.0524), (0.55986, 0.02842)]\n",
      "0.300715\n"
     ]
    }
   ],
   "source": [
    "states = [x for x in mean_std]\n",
    "\n",
    "new_list = []\n",
    "\n",
    "for x in states:\n",
    "    new_list.append(mean_std[x])\n",
    "\n",
    "print new_list\n",
    "\n",
    "print np.std(new_list[1])"
   ]
  },
  {
   "cell_type": "code",
   "execution_count": 8,
   "metadata": {
    "collapsed": true
   },
   "outputs": [],
   "source": [
    "#4a"
   ]
  },
  {
   "cell_type": "code",
   "execution_count": 9,
   "metadata": {
    "collapsed": false
   },
   "outputs": [
    {
     "name": "stdout",
     "output_type": "stream",
     "text": [
      "[331.30095657187786, 342.6816428596592, 342.17471742185313, 339.4066303220996, 323.71506806886225, 340.15822255627273, 328.1873555975635, 335.19428732398444, 332.7529677904444, 342.4280394323694, 319.7905857744868, 320.01945718299675, 340.15822255627273]\n",
      "0.02572\n",
      "377.918437341\n",
      "0.05806\n",
      "74.1627705502\n"
     ]
    }
   ],
   "source": [
    "states = [x for x in mean_std] #with different districts \n",
    "\n",
    "states.remove(\"Maine 1st District\")\n",
    "states.remove(\"Maine 2nd District\")\n",
    "states.remove(\"Nebraska 1st District\")\n",
    "states.remove(\"Nebraska 2nd District\")\n",
    "states.remove(\"Nebraska 3rd District\")\n",
    "\n",
    "\n",
    "#print states\n",
    "#print len(states)\n",
    "\n",
    "\n",
    "new_list = []\n",
    "mean = []\n",
    "\n",
    "for x in states:\n",
    "    new_list.append(mean_std[x])\n",
    "    \n",
    "#print new_list\n",
    "#print len(new_list)\n",
    "        \n",
    "mean = []\n",
    "std = []\n",
    "\n",
    "for x in new_list:\n",
    "    mean.append(x[0])\n",
    "    std.append(x[1])\n",
    "\n",
    "\n",
    "#print mean\n",
    "#print std\n",
    "#print len(std)\n",
    "\n",
    "stdless = [] #list of std of states within the 2.7% std range (13 states total)\n",
    "\n",
    "for j in std:\n",
    "    if j > .027 and j < .02799:\n",
    "        stdless.append(j)    \n",
    "\n",
    "totalsampled = []\n",
    "\n",
    "for x in stdless:\n",
    "    N = (.25)/((x)**2.0)\n",
    "    totalsampled.append(N)\n",
    "\n",
    "print totalsampled #number of people sampled in each of the 13 states within the 2.7% std range #answer to 4Ai\n",
    "\n",
    "#4aii\n",
    "\n",
    "min = std[1]\n",
    "for h in std:\n",
    "    if h < min:\n",
    "        min = h\n",
    "\n",
    "print min #4aii --> state with the lowest std is Georgia with a stdev of .02572\n",
    "\n",
    "N = (.25)/((min)**2.0)\n",
    "print N #4aii --> number of people sampled in Georgia \n",
    "\n",
    "max = std[1]\n",
    "for d in std:\n",
    "    if d > max:\n",
    "        max = d\n",
    "\n",
    "print max #4aiii ---> state with the highest std is Wyoming with a stdev of .05806\n",
    "\n",
    "N = (.25)/((max)**2.0)\n",
    "print N #4aii --> number of people sampled in Wyoming "
   ]
  },
  {
   "cell_type": "code",
   "execution_count": 10,
   "metadata": {
    "collapsed": true
   },
   "outputs": [],
   "source": [
    "from scipy.stats import norm"
   ]
  },
  {
   "cell_type": "code",
   "execution_count": 13,
   "metadata": {
    "collapsed": false
   },
   "outputs": [
    {
     "name": "stdout",
     "output_type": "stream",
     "text": [
      "0\n"
     ]
    }
   ],
   "source": [
    "#4B\n",
    "\n",
    "final_list = zip(states, ElectoralVotes2016, mean, std)\n",
    "\n",
    "#print final_list\n",
    "\n",
    "Trump_Elec = []\n",
    "Clinton_Elec = []\n",
    "\n",
    "for i in xrange (10000):\n",
    "    states_all = []\n",
    "    for x in final_list:\n",
    "        states_all.append((x[0]))\n",
    "        for k in states_all: #iterate through the states\n",
    "            draw = norm.rvs(x[2], x[3]) #run simulation on mean and std of each state \n",
    "            Trump_Elec = [] #accumulate \n",
    "            Clinton_Elec = [] #acumulate\n",
    "            if draw > .5:\n",
    "                Trump_Elec.append(x[1]) #append electoral votes of each state to winner\n",
    "            else:\n",
    "                Clinton_Elec.append(x[1])  #append electoral votes of each state to winner\n",
    "            Trump_total = []\n",
    "            Clinton_total = []\n",
    "            for j in Trump_Elec:\n",
    "                Trump_total = sum(Trump_Elec) #sum total electoral votes\n",
    "            for p in Clinton_Elec:\n",
    "                Clinton_total = sum(Clinton_Elec) #sum total electoral votes\n",
    "            Trump_win = []\n",
    "            Clinton_win = []\n",
    "            if Trump_total > 270: #if greater than 270, add one to win \n",
    "                Trump_win.append(1)\n",
    "            else:\n",
    "                Clinton_win.append(1)\n",
    "                \n",
    "print Trump_Elec/10000 #expected avg 233\n",
    "print Clinton_Elec/10000 #expected avg 305\n",
    "print sum (Trump_win)/10000 #divide by number of trials #about 13%\n",
    "print sum (Clinton_win)/10000 #divide by number of trials #get about 87%\n",
    "\n"
   ]
  },
  {
   "cell_type": "code",
   "execution_count": null,
   "metadata": {
    "collapsed": true
   },
   "outputs": [],
   "source": []
  },
  {
   "cell_type": "code",
   "execution_count": null,
   "metadata": {
    "collapsed": true
   },
   "outputs": [],
   "source": []
  }
 ],
 "metadata": {
  "kernelspec": {
   "display_name": "Python 2",
   "language": "python",
   "name": "python2"
  },
  "language_info": {
   "codemirror_mode": {
    "name": "ipython",
    "version": 2
   },
   "file_extension": ".py",
   "mimetype": "text/x-python",
   "name": "python",
   "nbconvert_exporter": "python",
   "pygments_lexer": "ipython2",
   "version": "2.7.13"
  }
 },
 "nbformat": 4,
 "nbformat_minor": 2
}
