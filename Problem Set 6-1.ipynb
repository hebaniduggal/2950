{
 "cells": [
  {
   "cell_type": "markdown",
   "metadata": {},
   "source": [
    "Hebani Duggal hd288 Problem Set 6"
   ]
  },
  {
   "cell_type": "code",
   "execution_count": 28,
   "metadata": {
    "collapsed": false
   },
   "outputs": [
    {
     "name": "stdout",
     "output_type": "stream",
     "text": [
      "80048\n",
      "107\n",
      "120002\n",
      "1526\n"
     ]
    }
   ],
   "source": [
    "counter = 0\n",
    "rank = 1\n",
    "\n",
    "while (counter <= 80000):\n",
    "    counter += 15270/rank\n",
    "    rank = rank + 1\n",
    "\n",
    "print counter \n",
    "print rank\n",
    "\n",
    "counter2 = 0\n",
    "rank2 = 1\n",
    "\n",
    "while (counter2 <= 120000):\n",
    "    counter2 += 15270/rank2\n",
    "    rank2 = rank2 + 1\n",
    "\n",
    "print counter2\n",
    "print rank2"
   ]
  },
  {
   "cell_type": "code",
   "execution_count": 29,
   "metadata": {
    "collapsed": true
   },
   "outputs": [],
   "source": [
    "import numpy as np\n",
    "import math as math "
   ]
  },
  {
   "cell_type": "code",
   "execution_count": 30,
   "metadata": {
    "collapsed": false
   },
   "outputs": [],
   "source": [
    "#Question 3, Part A "
   ]
  },
  {
   "cell_type": "code",
   "execution_count": 31,
   "metadata": {
    "collapsed": false
   },
   "outputs": [
    {
     "name": "stdout",
     "output_type": "stream",
     "text": [
      "0.5\n"
     ]
    }
   ],
   "source": [
    "slope_y = math.log(10**4) - math.log(10**3)\n",
    "slope_x = math.log(10**6)- math.log(10**4)\n",
    "\n",
    "print slope_y/slope_x #estimated power law exponent of the fit to the data (red line)."
   ]
  },
  {
   "cell_type": "code",
   "execution_count": 32,
   "metadata": {
    "collapsed": true
   },
   "outputs": [],
   "source": [
    "#Question 3, Part B "
   ]
  },
  {
   "cell_type": "code",
   "execution_count": 33,
   "metadata": {
    "collapsed": true
   },
   "outputs": [],
   "source": [
    "ptexts=[open('ps2data/p{}.txt'.format(i)).read() for i in range(30)]\n",
    "stexts=[open('ps2data/s{}.txt'.format(i)).read() for i in range(30)]\n",
    "ttexts=[open('ps2data/t{}.txt'.format(i)).read() for i in range(10)]\n",
    "total = ptexts + stexts + ttexts"
   ]
  },
  {
   "cell_type": "code",
   "execution_count": 34,
   "metadata": {
    "collapsed": true
   },
   "outputs": [],
   "source": [
    "%matplotlib inline\n",
    "import matplotlib.pyplot as plt\n",
    "import numpy as np\n",
    "from collections import Counter\n",
    "import re\n",
    "from scipy.stats import linregress"
   ]
  },
  {
   "cell_type": "code",
   "execution_count": null,
   "metadata": {
    "collapsed": false
   },
   "outputs": [],
   "source": []
  },
  {
   "cell_type": "code",
   "execution_count": 35,
   "metadata": {
    "collapsed": false
   },
   "outputs": [],
   "source": [
    "ptexts=[open('ps2data/p{}.txt'.format(i)).read() for i in range(30)]\n",
    "stexts=[open('ps2data/s{}.txt'.format(i)).read() for i in range(30)]\n",
    "ttexts=[open('ps2data/t{}.txt'.format(i)).read() for i in range(10)]\n",
    "total = ptexts+stexts+ttexts"
   ]
  },
  {
   "cell_type": "code",
   "execution_count": 1,
   "metadata": {
    "collapsed": false
   },
   "outputs": [
    {
     "ename": "NameError",
     "evalue": "name 'ptexts' is not defined",
     "output_type": "error",
     "traceback": [
      "\u001b[0;31m---------------------------------------------------------------------------\u001b[0m",
      "\u001b[0;31mNameError\u001b[0m                                 Traceback (most recent call last)",
      "\u001b[0;32m<ipython-input-1-97b97a98aa4e>\u001b[0m in \u001b[0;36m<module>\u001b[0;34m()\u001b[0m\n\u001b[1;32m      4\u001b[0m \u001b[0;34m\u001b[0m\u001b[0m\n\u001b[1;32m      5\u001b[0m \u001b[0;34m\u001b[0m\u001b[0m\n\u001b[0;32m----> 6\u001b[0;31m \u001b[0mdistwords\u001b[0m \u001b[0;34m=\u001b[0m \u001b[0;34m[\u001b[0m\u001b[0mlen\u001b[0m\u001b[0;34m(\u001b[0m\u001b[0mCounter\u001b[0m\u001b[0;34m(\u001b[0m\u001b[0mset\u001b[0m\u001b[0;34m(\u001b[0m\u001b[0mre\u001b[0m\u001b[0;34m.\u001b[0m\u001b[0mfindall\u001b[0m\u001b[0;34m(\u001b[0m\u001b[0;34m\"[a-z0-9']+\"\u001b[0m\u001b[0;34m,\u001b[0m\u001b[0mptexts\u001b[0m\u001b[0;34m[\u001b[0m\u001b[0;36m0\u001b[0m\u001b[0;34m]\u001b[0m\u001b[0;34m.\u001b[0m\u001b[0mlower\u001b[0m\u001b[0;34m(\u001b[0m\u001b[0;34m)\u001b[0m\u001b[0;34m)\u001b[0m\u001b[0;34m)\u001b[0m\u001b[0;34m)\u001b[0m\u001b[0;34m)\u001b[0m\u001b[0;34m]\u001b[0m\u001b[0;34m\u001b[0m\u001b[0m\n\u001b[0m\u001b[1;32m      7\u001b[0m \u001b[0mwords\u001b[0m \u001b[0;34m=\u001b[0m \u001b[0;34m[\u001b[0m\u001b[0mlen\u001b[0m\u001b[0;34m(\u001b[0m\u001b[0mptexts\u001b[0m\u001b[0;34m[\u001b[0m\u001b[0;36m0\u001b[0m\u001b[0;34m]\u001b[0m\u001b[0;34m)\u001b[0m\u001b[0;34m]\u001b[0m\u001b[0;34m\u001b[0m\u001b[0m\n\u001b[1;32m      8\u001b[0m \u001b[0mtxt\u001b[0m \u001b[0;34m=\u001b[0m \u001b[0mptexts\u001b[0m\u001b[0;34m[\u001b[0m\u001b[0;36m0\u001b[0m\u001b[0;34m]\u001b[0m\u001b[0;34m\u001b[0m\u001b[0m\n",
      "\u001b[0;31mNameError\u001b[0m: name 'ptexts' is not defined"
     ]
    }
   ],
   "source": [
    "import matplotlib.pyplot as plt \n",
    "from collections import Counter\n",
    "import re\n",
    "\n",
    "\n",
    "distwords = [len(Counter(set(re.findall(\"[a-z0-9']+\",ptexts[0].lower()))))]\n",
    "words = [len(ptexts[0])]\n",
    "txt = ptexts[0]\n",
    "for i in range(1,len(total)):\n",
    "    words.append(len(total[i])+words[i-1])\n",
    "    \n",
    "    txt += total[i]\n",
    "    distwords.append(len(Counter(set(re.findall(\"[a-z0-9']+\",txt.lower())))))\n",
    "    \n",
    "#for txt in stexts:\n",
    " #   distwords.append(len(Counter(set(re.findall(\"[a-z0-9']+\",txt.lower())))))\n",
    "#  words.append(len(txt))\n",
    "    \n",
    "#for txt in ttexts:\n",
    " #   distwords.append(len(Counter(set(re.findall(\"[a-z0-9']+\",txt.lower())))))\n",
    "#  words.append(len(txt))\n",
    "    \n",
    "\n"
   ]
  },
  {
   "cell_type": "code",
   "execution_count": 37,
   "metadata": {
    "collapsed": false
   },
   "outputs": [
    {
     "name": "stdout",
     "output_type": "stream",
     "text": [
      "[(6082, 460), (10769, 726), (19421, 1146), (23394, 1340), (28184, 1558), (35577, 1860), (39993, 2029), (44574, 2179), (49889, 2343), (58642, 2669), (63311, 2885), (68726, 3031), (75532, 3237), (82175, 3434), (87619, 3565), (94051, 3694), (103499, 3897), (108359, 4016), (113449, 4142), (119092, 4224), (123611, 4314), (128540, 4409), (133718, 4493), (138216, 4568), (145118, 4731), (153170, 4875), (159347, 5075), (165920, 5182), (173291, 5294), (179660, 5384), (184459, 5506), (191006, 5676), (197597, 5848), (206098, 6059), (211113, 6193), (218291, 6396), (226388, 6581), (231340, 6646), (240292, 6764), (246891, 6951), (254494, 7126), (264170, 7347), (271609, 7416), (277928, 7575), (284457, 7680), (291493, 7796), (297917, 7876), (304163, 7982), (308099, 8085), (311651, 8134), (317590, 8228), (324711, 8353), (330754, 8462), (336730, 8562), (342899, 8665), (350524, 8810), (356129, 8891), (363214, 8977), (371315, 9115), (378691, 9236), (384242, 9311), (391736, 9411), (400099, 9507), (407597, 9629), (414718, 9730), (423105, 9801), (428693, 9862), (434598, 9932), (441400, 9993), (450945, 10148)]\n",
      "[460, 726, 1146, 1340, 1558, 1860, 2029, 2179, 2343, 2669, 2885, 3031, 3237, 3434, 3565, 3694, 3897, 4016, 4142, 4224, 4314, 4409, 4493, 4568, 4731, 4875, 5075, 5182, 5294, 5384, 5506, 5676, 5848, 6059, 6193, 6396, 6581, 6646, 6764, 6951, 7126, 7347, 7416, 7575, 7680, 7796, 7876, 7982, 8085, 8134, 8228, 8353, 8462, 8562, 8665, 8810, 8891, 8977, 9115, 9236, 9311, 9411, 9507, 9629, 9730, 9801, 9862, 9932, 9993, 10148]\n",
      "[6082, 10769, 19421, 23394, 28184, 35577, 39993, 44574, 49889, 58642, 63311, 68726, 75532, 82175, 87619, 94051, 103499, 108359, 113449, 119092, 123611, 128540, 133718, 138216, 145118, 153170, 159347, 165920, 173291, 179660, 184459, 191006, 197597, 206098, 211113, 218291, 226388, 231340, 240292, 246891, 254494, 264170, 271609, 277928, 284457, 291493, 297917, 304163, 308099, 311651, 317590, 324711, 330754, 336730, 342899, 350524, 356129, 363214, 371315, 378691, 384242, 391736, 400099, 407597, 414718, 423105, 428693, 434598, 441400, 450945]\n"
     ]
    },
    {
     "ename": "NameError",
     "evalue": "name 'intercept' is not defined",
     "output_type": "error",
     "traceback": [
      "\u001b[0;31m---------------------------------------------------------------------------\u001b[0m",
      "\u001b[0;31mNameError\u001b[0m                                 Traceback (most recent call last)",
      "\u001b[0;32m<ipython-input-37-8505429a20ba>\u001b[0m in \u001b[0;36m<module>\u001b[0;34m()\u001b[0m\n\u001b[1;32m     19\u001b[0m \u001b[0mplt\u001b[0m\u001b[0;34m.\u001b[0m\u001b[0mxlabel\u001b[0m\u001b[0;34m(\u001b[0m\u001b[0;34m'Total Words'\u001b[0m\u001b[0;34m)\u001b[0m\u001b[0;34m,\u001b[0m \u001b[0mplt\u001b[0m\u001b[0;34m.\u001b[0m\u001b[0mylabel\u001b[0m\u001b[0;34m(\u001b[0m\u001b[0;34m'Distinct Words'\u001b[0m\u001b[0;34m)\u001b[0m\u001b[0;34m\u001b[0m\u001b[0m\n\u001b[1;32m     20\u001b[0m \u001b[0mplt\u001b[0m\u001b[0;34m.\u001b[0m\u001b[0mplot\u001b[0m\u001b[0;34m(\u001b[0m\u001b[0mwords\u001b[0m\u001b[0;34m,\u001b[0m\u001b[0mdistwords\u001b[0m\u001b[0;34m,\u001b[0m\u001b[0;34m'.-'\u001b[0m\u001b[0;34m)\u001b[0m\u001b[0;34m\u001b[0m\u001b[0m\n\u001b[0;32m---> 21\u001b[0;31m \u001b[0mplt\u001b[0m\u001b[0;34m.\u001b[0m\u001b[0mplot\u001b[0m\u001b[0;34m(\u001b[0m\u001b[0mxdata\u001b[0m\u001b[0;34m,\u001b[0m\u001b[0mnp\u001b[0m\u001b[0;34m.\u001b[0m\u001b[0mexp\u001b[0m\u001b[0;34m(\u001b[0m\u001b[0mintercept\u001b[0m\u001b[0;34m)\u001b[0m\u001b[0;34m*\u001b[0m\u001b[0mxdata\u001b[0m\u001b[0;34m**\u001b[0m\u001b[0mslope\u001b[0m\u001b[0;34m,\u001b[0m\u001b[0;34m'r'\u001b[0m\u001b[0;34m,\u001b[0m\u001b[0mlw\u001b[0m\u001b[0;34m=\u001b[0m\u001b[0;36m2\u001b[0m\u001b[0;34m)\u001b[0m\u001b[0;34m\u001b[0m\u001b[0m\n\u001b[0m\u001b[1;32m     22\u001b[0m \u001b[0mplt\u001b[0m\u001b[0;34m.\u001b[0m\u001b[0mlegend\u001b[0m\u001b[0;34m(\u001b[0m\u001b[0;34m[\u001b[0m\u001b[0;34m'Texts'\u001b[0m\u001b[0;34m]\u001b[0m\u001b[0;34m,\u001b[0m\u001b[0mloc\u001b[0m\u001b[0;34m=\u001b[0m\u001b[0;34m'upper left'\u001b[0m\u001b[0;34m)\u001b[0m\u001b[0;34m;\u001b[0m\u001b[0;34m\u001b[0m\u001b[0m\n\u001b[1;32m     23\u001b[0m \u001b[0;34m\u001b[0m\u001b[0m\n",
      "\u001b[0;31mNameError\u001b[0m: name 'intercept' is not defined"
     ]
    },
    {
     "data": {
      "image/png": "[encoded data removed]",
      "text/plain": [
       "<matplotlib.figure.Figure at 0x116a2f3d0>"
      ]
     },
     "metadata": {},
     "output_type": "display_data"
    }
   ],
   "source": [
    "%matplotlib inline\n",
    "import matplotlib.pyplot as plt \n",
    "xdata=words\n",
    "\n",
    "#sortdist = x for (y,x) in sorted(zip(words,distwords))\n",
    "\n",
    "xy = zip(words,distwords)\n",
    "#print xy\n",
    "xy.sort()\n",
    "print xy\n",
    "\n",
    "sortdist = [x for y, x in xy]\n",
    "print sortdist\n",
    "words.sort()\n",
    "print words\n",
    "\n",
    "plt.figure(figsize=(8.5,4))\n",
    "plt.subplot(1,2,1)\n",
    "plt.xlabel('Total Words'), plt.ylabel('Distinct Words')\n",
    "plt.plot(words,distwords,'.-')\n",
    "plt.plot(xdata,np.exp(intercept)*xdata**slope,'r',lw=2)\n",
    "plt.legend(['Texts'],loc='upper left');\n",
    "\n",
    "plt.subplot(1,2,2)\n",
    "plt.xlabel('Total Words'), plt.ylabel('Distinct Words')\n",
    "plt.loglog(words,sortdist,'.-')\n",
    "plt.legend(['Texts'])\n",
    "plt.xlim([3000,1000000])\n",
    "plt.tight_layout();\n",
    "\n",
    "\n"
   ]
  },
  {
   "cell_type": "code",
   "execution_count": null,
   "metadata": {
    "collapsed": false
   },
   "outputs": [],
   "source": [
    "from scipy.stats import linregress\n",
    "logxdata,logydata = map(np.log,(words,distwords))\n",
    "slope, intercept, r_value, p_value, std_err = linregress(logxdata,logydata)\n",
    "\n",
    "plt.figure()\n",
    "plt.xlabel('Total Words'), plt.ylabel('Distinct Words')\n",
    "plt.plot(words,distwords,'.-')\n",
    "plt.plot(xdata,np.exp(intercept)*xdata**slope,'r',lw=2)\n",
    "plt.legend(['Texts'],loc='upper left');\n",
    "\n",
    "print slope"
   ]
  },
  {
   "cell_type": "code",
   "execution_count": null,
   "metadata": {
    "collapsed": false
   },
   "outputs": [],
   "source": [
    "# Question 4\n",
    "# Part A\n",
    "# Part 1\n",
    "import random\n",
    "N=100000\n",
    "E=set()\n",
    "z = 5\n",
    "L=N*z/2.\n",
    "while(len(E)<L): E.add(tuple(random.sample(xrange(N),2)))\n",
    "\n",
    "x_val = [x[0] for x in E]\n",
    "y_val = [x[1] for x in E]\n",
    "\n",
    "\n",
    "#plt.plot(x_val,y_val)\n",
    "#plt.plot(x_val,y_val,'or')\n",
    "#plt.show()\n",
    "\n",
    "\n",
    "\n",
    "\n",
    "# The probability of 0 edges was 4.6%, which means we'd expect roughly 5 of the numbers to not have been included\n",
    "# This exactly matches our empirical results"
   ]
  },
  {
   "cell_type": "code",
   "execution_count": null,
   "metadata": {
    "collapsed": false
   },
   "outputs": [],
   "source": [
    "degree = Counter([v for edge in E for v in edge])\n",
    "\n",
    "print np.mean(degree.keys())\n",
    "print np.std(degree.keys())\n",
    "\n",
    "print N - len(degree.values())\n",
    "\n",
    "choose = N*(N-1)/2.\n",
    "p = L/choose\n",
    "\n",
    "probNoSucc = (1-p)**N\n",
    "print probNoSucc\n",
    "\n",
    "meanNoSucc = probNoSucc*N\n",
    "print meanNoSucc\n",
    "\n",
    "# The probability of 0 edges was 0.0067, which means we'd expect roughly 670 of the numbers to not have been included\n",
    "# This closely matches our empirical results"
   ]
  },
  {
   "cell_type": "code",
   "execution_count": null,
   "metadata": {
    "collapsed": false
   },
   "outputs": [],
   "source": [
    "#Part A, Subpart 2\n",
    "print np.mean(degree.values())\n",
    "#mean very close to z = 5\n",
    "print N*p\n",
    "\n",
    "print np.std(degree.values())\n",
    "print np.sqrt(N*p*(1-p))\n",
    "# stdev value very close to the predicted std from Poisson, which is N*p*(1-p)\n"
   ]
  },
  {
   "cell_type": "code",
   "execution_count": null,
   "metadata": {
    "collapsed": false
   },
   "outputs": [],
   "source": [
    "from scipy.misc import factorial\n",
    "def poisson(M,z=1): return np.array([np.exp(-z)*z**m/factorial(m) for m in M])\n",
    "ps = poisson(range(15),z=N*p)\n",
    "\n",
    "print ps\n",
    "print len(degree.values())\n",
    "\n",
    "plt.hist(degree.values())\n",
    "plt.plot(range(15),ps*N)"
   ]
  },
  {
   "cell_type": "code",
   "execution_count": null,
   "metadata": {
    "collapsed": false
   },
   "outputs": [],
   "source": [
    "# Question 4, Part B, Part 1\n",
    "randy = np.random.randint(N,size=100)\n",
    "#print randy\n",
    "x = 0\n",
    "for i in randy:\n",
    "    x+=degree[i]\n",
    "\n",
    "#the value for the mean degrees for the verticies is very close to 5, our selected z value\n",
    "print x/100."
   ]
  },
  {
   "cell_type": "code",
   "execution_count": null,
   "metadata": {
    "collapsed": false
   },
   "outputs": [],
   "source": [
    "# Question 4, Part B, Part 2\n",
    "rands = np.random.randint(N,size=100)\n",
    "#print rands\n",
    "\n",
    "neighbors = dict()\n",
    "for i in E:\n",
    "    for j in E:\n",
    "        if i in \n",
    "    current = \n",
    "    currentlist = [item[0] for item in E if item[1] == current] + [item[1] for item in E if item[0] == current] \n",
    "    neighbors[current] = currentlist\n",
    "\n",
    "Chosenneighbors = []\n",
    "\n",
    "\n",
    "for i in range(len(rands)):\n",
    "    current = rands[i]\n",
    "    currentlist = [item[0] for item in E if item[1] == current] + [item[1] for item in E if item[0] == current]    \n",
    "    if currentlist != []:\n",
    "        Chosenneighbors.append(random.choice(currentlist))\n",
    "    \n",
    "\n",
    "summer = 0\n",
    "for i in neighbors:\n",
    "    current = degree[i]\n",
    "    summer+= current\n",
    "    \n",
    "print summer/float(len(neighbors))\n",
    "\n",
    "# the mean here is greater than 5 consistently, as we would expect. It is greater by ~50%, which is expected for a single neighbor and for z=3"
   ]
  },
  {
   "cell_type": "code",
   "execution_count": null,
   "metadata": {
    "collapsed": false
   },
   "outputs": [],
   "source": [
    "# Question 4, Part C\n",
    "neighbors = dict()\n",
    "for i in degree.keys():\n",
    "    current = i\n",
    "    currentlist = [item[0] for item in E if item[1] == current] + [item[1] for item in E if item[0] == current] \n",
    "    neighbors[current] = currentlist\n",
    "\n",
    "coefs = []\n",
    "friend_pairs = []\n",
    "#print neighbors\n",
    "for j in neighbors.keys():\n",
    "    friend_pairs += [(f1,f2) for f1 in neighbors[j] for f2 in neighbors[j] if f1<f2]\n",
    "\n",
    "for x in neighbors.keys():\n",
    "    current = [(f1,f2) for f1 in neighbors[x] for f2 in neighbors[x] if f1<f2]\n",
    "    coefs.append(float(len(current))/float(len(friend_pairs)))\n",
    "print np.mean(coefs)\n"
   ]
  },
  {
   "cell_type": "code",
   "execution_count": null,
   "metadata": {
    "collapsed": true
   },
   "outputs": [],
   "source": [
    "# Question 4, Part D [Bonus]"
   ]
  },
  {
   "cell_type": "code",
   "execution_count": null,
   "metadata": {
    "collapsed": true
   },
   "outputs": [],
   "source": [
    "# Question 5,"
   ]
  }
 ],
 "metadata": {
  "anaconda-cloud": {},
  "kernelspec": {
   "display_name": "Python 2",
   "language": "python",
   "name": "python2"
  },
  "language_info": {
   "codemirror_mode": {
    "name": "ipython",
    "version": 2
   },
   "file_extension": ".py",
   "mimetype": "text/x-python",
   "name": "python",
   "nbconvert_exporter": "python",
   "pygments_lexer": "ipython2",
   "version": "2.7.13"
  }
 },
 "nbformat": 4,
 "nbformat_minor": 2
}
