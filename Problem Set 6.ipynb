{
 "cells": [
  {
   "cell_type": "markdown",
   "metadata": {},
   "source": [
    "Hebani Duggal hd288 Problem Set 6"
   ]
  },
  {
   "cell_type": "code",
   "execution_count": 20,
   "metadata": {
    "collapsed": false
   },
   "outputs": [
    {
     "name": "stdout",
     "output_type": "stream",
     "text": [
      "80048\n",
      "107\n",
      "120002\n",
      "1526\n"
     ]
    }
   ],
   "source": [
    "counter = 0\n",
    "rank = 1\n",
    "\n",
    "while (counter <= 80000):\n",
    "    counter += 15270/rank\n",
    "    rank = rank + 1\n",
    "\n",
    "print counter \n",
    "print rank\n",
    "\n",
    "counter2 = 0\n",
    "rank2 = 1\n",
    "\n",
    "while (counter2 <= 120000):\n",
    "    counter2 += 15270/rank2\n",
    "    rank2 = rank2 + 1\n",
    "\n",
    "print counter2\n",
    "print rank2"
   ]
  },
  {
   "cell_type": "code",
   "execution_count": 21,
   "metadata": {
    "collapsed": true
   },
   "outputs": [],
   "source": [
    "import numpy as np"
   ]
  },
  {
   "cell_type": "code",
   "execution_count": 22,
   "metadata": {
    "collapsed": false
   },
   "outputs": [
    {
     "ename": "NameError",
     "evalue": "name 'c' is not defined",
     "output_type": "error",
     "traceback": [
      "\u001b[0;31m---------------------------------------------------------------------------\u001b[0m",
      "\u001b[0;31mNameError\u001b[0m                                 Traceback (most recent call last)",
      "\u001b[0;32m<ipython-input-22-010dcad4764a>\u001b[0m in \u001b[0;36m<module>\u001b[0;34m()\u001b[0m\n\u001b[0;32m----> 1\u001b[0;31m \u001b[0mc\u001b[0m\u001b[0;34m*\u001b[0m\u001b[0mr\u001b[0m\u001b[0;34m**\u001b[0m\u001b[0;34m(\u001b[0m\u001b[0;34m-\u001b[0m\u001b[0mk\u001b[0m\u001b[0;34m)\u001b[0m\u001b[0;34m\u001b[0m\u001b[0m\n\u001b[0m\u001b[1;32m      2\u001b[0m \u001b[0mr\u001b[0m \u001b[0;34m=\u001b[0m \u001b[0mnp\u001b[0m\u001b[0;34m.\u001b[0m\u001b[0marange\u001b[0m\u001b[0;34m(\u001b[0m\u001b[0;36m1\u001b[0m\u001b[0;34m,\u001b[0m\u001b[0;36m750000\u001b[0m\u001b[0;34m)\u001b[0m\u001b[0;34m\u001b[0m\u001b[0m\n",
      "\u001b[0;31mNameError\u001b[0m: name 'c' is not defined"
     ]
    }
   ],
   "source": [
    "c*r**(-k) \n",
    "r = np.arange(1,750000)"
   ]
  },
  {
   "cell_type": "code",
   "execution_count": null,
   "metadata": {
    "collapsed": false
   },
   "outputs": [],
   "source": [
    "ptexts=[open('ps2data/p{}.txt'.format(i)).read() for i in range(30)]\n",
    "stexts=[open('ps2data/s{}.txt'.format(i)).read() for i in range(30)]\n",
    "ttexts=[open('ps2data/t{}.txt'.format(i)).read() for i in range(10)]\n",
    "\n"
   ]
  },
  {
   "cell_type": "code",
   "execution_count": null,
   "metadata": {
    "collapsed": false
   },
   "outputs": [],
   "source": [
    "xdata=np.arange(10000,1000000,100000)\n",
    "\n",
    "plt.figure(figsize=(8.5,4))\n",
    "plt.subplot(1,2,1)\n",
    "plt.xlabel('Total Words'), plt.ylabel('Distinct Words')\n",
    "plt.plot(total_words,distinct_words,'.-')\n",
    "plt.plot(xdata,np.exp(intercept)*xdata**slope,'r',lw=2)\n",
    "plt.legend(['Shakespeare','$V=AT^c$'],loc='upper left');\n",
    "\n",
    "plt.subplot(1,2,2)\n",
    "plt.xlabel('Total Words'), plt.ylabel('Distinct Words')\n",
    "plt.loglog(total_words,distinct_words,'.-')\n",
    "plt.plot(xdata,np.exp(intercept)*xdata**slope,'r',lw=2)\n",
    "plt.legend(['Shakespeare','$V=AT^c$ power law'])\n",
    "plt.tight_layout();"
   ]
  },
  {
   "cell_type": "code",
   "execution_count": null,
   "metadata": {
    "collapsed": true
   },
   "outputs": [],
   "source": []
  }
 ],
 "metadata": {
  "kernelspec": {
   "display_name": "Python 2",
   "language": "python",
   "name": "python2"
  },
  "language_info": {
   "codemirror_mode": {
    "name": "ipython",
    "version": 2
   },
   "file_extension": ".py",
   "mimetype": "text/x-python",
   "name": "python",
   "nbconvert_exporter": "python",
   "pygments_lexer": "ipython2",
   "version": "2.7.13"
  }
 },
 "nbformat": 4,
 "nbformat_minor": 2
}
