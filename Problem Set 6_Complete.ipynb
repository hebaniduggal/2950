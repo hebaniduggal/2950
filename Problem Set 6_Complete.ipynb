{
 "cells": [
  {
   "cell_type": "markdown",
   "metadata": {
    "collapsed": true
   },
   "source": [
    "Hebani Duggal hd288 Problem Set 6 \n",
    "Discussed high level strategies with ta323, tw292, ae277"
   ]
  },
  {
   "cell_type": "code",
   "execution_count": 12,
   "metadata": {
    "collapsed": true
   },
   "outputs": [],
   "source": [
    "#Question2, Part A"
   ]
  },
  {
   "cell_type": "code",
   "execution_count": 13,
   "metadata": {
    "collapsed": false
   },
   "outputs": [
    {
     "name": "stdout",
     "output_type": "stream",
     "text": [
      "0.293395600985\n",
      "4.29585475789e-05\n",
      "0.29375066265\n",
      "4.50841715645e-05\n"
     ]
    }
   ],
   "source": [
    "N = 7500000\n",
    "N2 = int(N/10)\n",
    "\n",
    "amazon = 0\n",
    "amazon_total = 0\n",
    "wiki = 0\n",
    "wiki_total = 0\n",
    "\n",
    "for i in range(1,N2):\n",
    "    amazon+=1/(i**0.87)\n",
    "    wiki+=1/(i**1.7)\n",
    "    \n",
    "for i in range(1,N):\n",
    "    amazon_total+=1/(i**0.87)\n",
    "    wiki_total+=1/(i**1.7)\n",
    "\n",
    "print (amazon_total-amazon)/amazon_total #fraction contribution of k to latter 90% of the ranked items (.1N to N)\n",
    "print (wiki_total-wiki)/wiki_total #fraction contribution of k to latter 90% of the ranked items (.1N to N)\n",
    "\n",
    "#total doesnt depend on value of N, can see that there is little change from original answer by changing the value of N \n",
    "#for example, if N is 7 million:\n",
    "\n",
    "N = 7000000\n",
    "N2 = int(N/10)\n",
    "\n",
    "amazon = 0\n",
    "amazon_total = 0\n",
    "wiki = 0\n",
    "wiki_total = 0\n",
    "\n",
    "for i in range(1,N2):\n",
    "    amazon+=1/(i**0.87)\n",
    "    wiki+=1/(i**1.7)\n",
    "    \n",
    "for i in range(1,N):\n",
    "    amazon_total+=1/(i**0.87)\n",
    "    wiki_total+=1/(i**1.7)\n",
    "\n",
    "print (amazon_total-amazon)/amazon_total #fraction contribution of k to latter 90% of the ranked items (.1N to N) for a different N value\n",
    "print (wiki_total-wiki)/wiki_total #fraction contribution of k to latter 90% of the ranked items (.1N to N) for a different N value "
   ]
  },
  {
   "cell_type": "code",
   "execution_count": 14,
   "metadata": {
    "collapsed": true
   },
   "outputs": [],
   "source": [
    "#Question 2, Part B "
   ]
  },
  {
   "cell_type": "code",
   "execution_count": 15,
   "metadata": {
    "collapsed": false
   },
   "outputs": [
    {
     "name": "stdout",
     "output_type": "stream",
     "text": [
      "10.7073554931\n",
      "0.00043200774793\n"
     ]
    }
   ],
   "source": [
    "amazon_double = 0\n",
    "wiki_double = 0\n",
    "\n",
    "for i in range(1,2*N):\n",
    "    amazon_double += 1/(i**0.87)\n",
    "    wiki_double += 1/(i**1.7)\n",
    "    \n",
    "print 100*((amazon_double/amazon_total)-1) #percentage of sales growth, amazon\n",
    "print 100*((wiki_double/wiki_total)-1) #percentage of sales growth, wiki\n",
    "\n",
    "#changing N in part a doesn't drastically change growth in % of amazon and wiki sales, can see this by changing value of N above \n"
   ]
  },
  {
   "cell_type": "code",
   "execution_count": 16,
   "metadata": {
    "collapsed": true
   },
   "outputs": [],
   "source": [
    "#Question 3, Part A "
   ]
  },
  {
   "cell_type": "code",
   "execution_count": 17,
   "metadata": {
    "collapsed": true
   },
   "outputs": [],
   "source": [
    "import math as math \n",
    "import numpy as np\n",
    "%matplotlib inline\n",
    "import matplotlib.pyplot as plt\n",
    "import numpy as np\n",
    "from collections import Counter\n",
    "import re\n",
    "from scipy.stats import linregress"
   ]
  },
  {
   "cell_type": "code",
   "execution_count": 18,
   "metadata": {
    "collapsed": false
   },
   "outputs": [
    {
     "name": "stdout",
     "output_type": "stream",
     "text": [
      "0.5\n"
     ]
    }
   ],
   "source": [
    "slope_y = math.log(10**4) - math.log(10**3)\n",
    "slope_x = math.log(10**6)- math.log(10**4)\n",
    "\n",
    "print slope_y/slope_x #estimated power law exponent of the fit to the data (red line)."
   ]
  },
  {
   "cell_type": "code",
   "execution_count": null,
   "metadata": {
    "collapsed": true
   },
   "outputs": [],
   "source": [
    "#Question 3, Part B"
   ]
  },
  {
   "cell_type": "code",
   "execution_count": 19,
   "metadata": {
    "collapsed": true
   },
   "outputs": [],
   "source": [
    "ptexts=[open('ps2data/p{}.txt'.format(i)).read() for i in range(30)]\n",
    "stexts=[open('ps2data/s{}.txt'.format(i)).read() for i in range(30)]\n",
    "ttexts=[open('ps2data/t{}.txt'.format(i)).read() for i in range(10)]\n",
    "total_texts = ptexts+stexts+ttexts"
   ]
  },
  {
   "cell_type": "code",
   "execution_count": 20,
   "metadata": {
    "collapsed": false
   },
   "outputs": [
    {
     "name": "stdout",
     "output_type": "stream",
     "text": [
      "[448, 710, 1128, 1318, 1532, 1826, 1993, 2143, 2307, 2627, 2839, 2983, 3184, 3379, 3509, 3636, 3836, 3955, 4072, 4152, 4241, 4335, 4413, 4488, 4644, 4784, 4984, 5086, 5198, 5284, 5396, 5565, 5730, 5934, 6067, 6268, 6450, 6513, 6628, 6785, 6956, 7173, 7238, 7391, 7491, 7600, 7677, 7783, 7885, 7934, 8027, 8150, 8258, 8358, 8460, 8605, 8686, 8771, 8907, 9028, 9103, 9202, 9297, 9419, 9517, 9587, 9645, 9714, 9775, 9928]\n",
      "[968, 1730, 3320, 3953, 4718, 5946, 6681, 7474, 8358, 9737, 10500, 11365, 12494, 13562, 14466, 15515, 17026, 17843, 18631, 19527, 20300, 21103, 21921, 22655, 23732, 24961, 25928, 27004, 28205, 29231, 30054, 31169, 32273, 33664, 34540, 35737, 37229, 38144, 39727, 40787, 42052, 43647, 44922, 45970, 47223, 48418, 49557, 50636, 51306, 51908, 52861, 54081, 55103, 56132, 57217, 58588, 59547, 60796, 62145, 63393, 64396, 65567, 66886, 68111, 69211, 70490, 71394, 72360, 73497, 75095]\n"
     ]
    },
    {
     "data": {
      "image/png": "[encoded data removed]",
      "text/plain": [
       "<matplotlib.figure.Figure at 0x11f66db90>"
      ]
     },
     "metadata": {},
     "output_type": "display_data"
    }
   ],
   "source": [
    "h = Counter()\n",
    "\n",
    "dist = 0\n",
    "all = 0\n",
    "\n",
    "distwords = []\n",
    "allcount = []\n",
    "distcount = []\n",
    "\n",
    "for i in total_texts: \n",
    "    h = Counter(re.findall(\"[a-z']+\",i.lower()))\n",
    "    for b in h:\n",
    "        if b in distwords:\n",
    "            distwords = distwords\n",
    "        else:\n",
    "            distwords.append(b)\n",
    "            dist+=1\n",
    "    for k in h.values():\n",
    "        all += k\n",
    "    distcount.append(dist)\n",
    "    allcount.append(all)\n",
    "\n",
    "print(distcount) #number of accumulated distinct words\n",
    "print(allcount) #number of accumulated total words\n",
    "\n",
    "plt.figure(figsize=(10.5,5))\n",
    "plt.subplot(1,2,1)\n",
    "plt.xlabel('Total Words'), plt.ylabel('Distinct Words')\n",
    "plt.plot(allcount,distcount,'.-')\n",
    "\n",
    "\n",
    "logxdata,logydata = map(np.log,(allcount,distcount))\n",
    "slope, intercept, r_value, p_value, std_err = linregress(logxdata,logydata)\n",
    "plt.plot(allcount,np.exp(intercept)*allcount**slope,'r',lw=2)\n",
    "plt.legend(['Corpus','Best Fit'],loc='upper left')\n",
    "\n",
    "plt.subplot(1,2,2)\n",
    "plt.xlabel('Total Words'), plt.ylabel('Distinct Words')\n",
    "plt.loglog(allcount,distcount,'.-')\n",
    "plt.xlim(500,150000)\n",
    "plt.ylim(300,15000)\n",
    "\n",
    "\n",
    "logxdata,logydata = map(np.log,(allcount,distcount))\n",
    "slope, intercept, r_value, p_value, std_err = linregress(logxdata,logydata)\n",
    "plt.plot(allcount,np.exp(intercept)*allcount**slope,'r',lw=2)\n",
    "plt.legend(['Corpus','Best Fit'],loc='upper left') #slope = 0.6897\n",
    "\n",
    "plt.show()"
   ]
  },
  {
   "cell_type": "code",
   "execution_count": 21,
   "metadata": {
    "collapsed": true
   },
   "outputs": [],
   "source": [
    "#Question 4, Part A, Part 1 "
   ]
  },
  {
   "cell_type": "code",
   "execution_count": 22,
   "metadata": {
    "collapsed": true
   },
   "outputs": [],
   "source": [
    "import random"
   ]
  },
  {
   "cell_type": "code",
   "execution_count": 23,
   "metadata": {
    "collapsed": false
   },
   "outputs": [
    {
     "name": "stdout",
     "output_type": "stream",
     "text": [
      "633\n",
      "673.710477183\n"
     ]
    }
   ],
   "source": [
    "N=100000\n",
    "E=set()\n",
    "z = 5\n",
    "L=N*z/2.\n",
    "p = L/(N*(N-1)/2)\n",
    "\n",
    "while(len(E)<L): E.add(tuple(random.sample(xrange(N),2)))\n",
    "\n",
    "vertices_list = [v for edge in E for v in edge]\n",
    "   \n",
    "dict_degree = Counter(vertices_list)\n",
    "\n",
    "print N-len(dict_degree) #the number of vertices not included\n",
    "print N*(1-p)**(N-1) #expectation of zero successes in N-1 trials with probability p"
   ]
  },
  {
   "cell_type": "code",
   "execution_count": 24,
   "metadata": {
    "collapsed": true
   },
   "outputs": [],
   "source": [
    "#Question 4, Part A, Part 2"
   ]
  },
  {
   "cell_type": "code",
   "execution_count": 25,
   "metadata": {
    "collapsed": false
   },
   "outputs": [
    {
     "name": "stdout",
     "output_type": "stream",
     "text": [
      "5.03185162076\n",
      "2.2360679775\n",
      "2.20281582817\n"
     ]
    }
   ],
   "source": [
    "mean = np.mean(list(dict_degree.values()))\n",
    "std = np.std(list(dict_degree.values()))\n",
    "\n",
    "print mean\n",
    "print math.sqrt(5) \n",
    "print std"
   ]
  },
  {
   "cell_type": "code",
   "execution_count": 26,
   "metadata": {
    "collapsed": true
   },
   "outputs": [],
   "source": [
    "#Question 4, Part A, Part 3\n",
    "def poisson(m,z=1): return math.exp(-z)*z**m/math.factorial(m)"
   ]
  },
  {
   "cell_type": "code",
   "execution_count": 27,
   "metadata": {
    "collapsed": false
   },
   "outputs": [
    {
     "name": "stdout",
     "output_type": "stream",
     "text": [
      "99367\n"
     ]
    },
    {
     "data": {
      "image/png": "[encoded data removed]",
      "text/plain": [
       "<matplotlib.figure.Figure at 0x10cef63d0>"
      ]
     },
     "metadata": {},
     "output_type": "display_data"
    }
   ],
   "source": [
    "nodegree = N-len(dict_degree.values())\n",
    "values_degree = list(dict_degree.values())\n",
    "\n",
    "avg = 0\n",
    "\n",
    "poisson_fit = []\n",
    "std = []\n",
    "\n",
    "\n",
    "for i in values_degree:\n",
    "    avg+=i\n",
    "avg = avg/N\n",
    "print(len(values_degree))\n",
    "\n",
    "for i in range(20):\n",
    "    poisson_fit.append(poisson(i,avg))\n",
    "\n",
    "for i in poisson_fit:\n",
    "    std.append(math.sqrt(N*i*(1-i)))\n",
    "\n",
    "plt.xlim(-.5,20.5),plt.ylim(0,20000)\n",
    "plt.xlabel('#degrees'),plt.ylabel('#vertices')\n",
    "plt.hist(list(dict_degree.values()) + [0]*nodegree, bins=range(30),align='left');\n",
    "for i in range(20):\n",
    "    plt.errorbar(i,N*poisson(i,avg),yerr=std[i],color='r',fmt='o',linewidth=1.5,linestyle='none')\n",
    "plt.title('Degree distribution (N=100000) and Poisson Fit to Data')\n",
    "plt.legend(['data','Poisson, avg=5'])\n",
    "plt.show()"
   ]
  },
  {
   "cell_type": "code",
   "execution_count": 28,
   "metadata": {
    "collapsed": true
   },
   "outputs": [],
   "source": [
    "#Question 4, Part B, Part 1"
   ]
  },
  {
   "cell_type": "code",
   "execution_count": 29,
   "metadata": {
    "collapsed": false
   },
   "outputs": [
    {
     "name": "stdout",
     "output_type": "stream",
     "text": [
      "5\n"
     ]
    }
   ],
   "source": [
    "random_ = np.random.randint(N,size=100)\n",
    "degree_value = 0\n",
    "\n",
    "for i in random_:\n",
    "    degree_value += dict_degree[i]\n",
    "    \n",
    "print degree_value/100 #average degree of vertices"
   ]
  },
  {
   "cell_type": "code",
   "execution_count": 30,
   "metadata": {
    "collapsed": true
   },
   "outputs": [],
   "source": [
    "#Question 4, Part B, Part 2"
   ]
  },
  {
   "cell_type": "code",
   "execution_count": 39,
   "metadata": {
    "collapsed": false
   },
   "outputs": [
    {
     "name": "stdout",
     "output_type": "stream",
     "text": [
      "2\n",
      "5\n"
     ]
    }
   ],
   "source": [
    "random_2 = np.random.randint(N,size=100)\n",
    "neighbors = {}\n",
    "degree_value_2 = 0\n",
    "\n",
    "for i in range(N): \n",
    "    neighbors[i] = []\n",
    "for (i,j) in E:\n",
    "    if i in neighbors:\n",
    "        neighbors[i].append(j)\n",
    "    if j in neighbors: \n",
    "        neighbors[j].append(i)\n",
    "for i in random_2:\n",
    "    if len(neighbors[i]) == 0:\n",
    "        degree_value_l2 = degree_value_2\n",
    "    else:\n",
    "        random_choice = random.choice(neighbors[i])\n",
    "        degree_value_2 += dict_degree[random_choice]\n",
    "        \n",
    "print degree_value_2/100 #mean for part 2\n",
    "print degree_value/100 #meant for part 1\n",
    "\n",
    "#mean in part 2 is greater than mean in part 1\n",
    "#expected value is the same as mean calculated above for part 2 since its a Poisson distribution"
   ]
  },
  {
   "cell_type": "code",
   "execution_count": 32,
   "metadata": {
    "collapsed": true
   },
   "outputs": [],
   "source": [
    "#Question 4, Part C"
   ]
  },
  {
   "cell_type": "code",
   "execution_count": 33,
   "metadata": {
    "collapsed": false
   },
   "outputs": [
    {
     "name": "stdout",
     "output_type": "stream",
     "text": [
      "0\n"
     ]
    }
   ],
   "source": [
    "edges = 0\n",
    "cluster_coeff = 0\n",
    "d = N\n",
    "dist_friend_pairs = []\n",
    "\n",
    "for j in neighbors:\n",
    "    friend_pairs = [(f1,f2) for f1 in neighbors[j] for f2 in neighbors[j] if f1<f2]\n",
    "    for a in friend_pairs:\n",
    "        if a in E:\n",
    "            edges += 1\n",
    "    if len(friend_pairs) == 0 or len(friend_pairs) == 1:\n",
    "        d -= 1 \n",
    "    else:\n",
    "        cluster_coeff += edges/len(friend_pairs)\n",
    "    edges = 0\n",
    "    dist_friend_pairs.extend(friend_pairs)\n",
    "    \n",
    "print(cluster_coeff/d) #avg cluster coefficient is 2.26 x 10^-05"
   ]
  },
  {
   "cell_type": "code",
   "execution_count": 34,
   "metadata": {
    "collapsed": true
   },
   "outputs": [],
   "source": [
    "#Question 5, Part A"
   ]
  },
  {
   "cell_type": "code",
   "execution_count": 35,
   "metadata": {
    "collapsed": true
   },
   "outputs": [],
   "source": [
    "import random\n",
    "from collections import Counter"
   ]
  },
  {
   "cell_type": "code",
   "execution_count": 36,
   "metadata": {
    "collapsed": true
   },
   "outputs": [],
   "source": [
    "weighted=[0,1]\n",
    "N = 200000\n",
    "\n",
    "\n",
    "for k in range(2,N):\n",
    "    v1 = random.choice(weighted)\n",
    "    v2 = random.choice(weighted)\n",
    "    while v1 == v2:\n",
    "        v2 = random.choice(weighted)\n",
    "    weighted += [k,v1,k,v2]\n",
    "weighted_dict = dict(Counter(weighted))\n",
    "\n",
    "\n",
    "def inverted_dict(d):\n",
    "    new_dict = {}\n",
    "    for a, b in d.items():\n",
    "        new_dict.setdefault(b, []).append(a)\n",
    "    return new_dict\n",
    "\n",
    "w = inverted_dict(weighted_dict)\n",
    "keys = []\n",
    "values = []\n",
    "degrees = []\n",
    "\n",
    "\n",
    "for i in w: \n",
    "    keys.append(i)\n",
    "    values.append(len(w[i]))\n",
    "    if i >= 20:\n",
    "        for a in range(len(w[i])):\n",
    "            degrees.append(i)\n",
    "            \n",
    "            \n",
    "degrees = sorted(degrees,reverse=True)"
   ]
  },
  {
   "cell_type": "code",
   "execution_count": 45,
   "metadata": {
    "collapsed": false
   },
   "outputs": [
    {
     "name": "stdout",
     "output_type": "stream",
     "text": [
      "2.01812283564\n"
     ]
    },
    {
     "data": {
      "image/png": "[encoded data removed]",
      "text/plain": [
       "<matplotlib.figure.Figure at 0x11046aa10>"
      ]
     },
     "metadata": {},
     "output_type": "display_data"
    }
   ],
   "source": [
    "plt.xlabel('degree'), plt.ylabel('nodes')\n",
    "plt.loglog(keys,values,'.')\n",
    "\n",
    "logxdata,logydata = map(np.log,(keys,values))\n",
    "slope, intercept, r_value, p_value, std_err = linregress(logxdata,logydata)\n",
    "n = len(degrees)\n",
    "xmin = 20\n",
    "a = 3\n",
    "xr = xmin*np.random.rand(n)**(-1/(a-1))\n",
    "a=1+n/sum(np.log(xr/20))\n",
    "sigma=(a-1)/math.sqrt(n)\n",
    "print(a)\n",
    "\n",
    "\n",
    "C=(alpha-1)*xmin**(alpha-1)\n",
    "plt.plot(degrees,(n)*C*degrees**(-a),'r-',linewidth=2,label='$\\\\a={:.4f}$'.format(alpha))\n",
    "plt.xlim(1,1500)\n",
    "plt.ylim(0.8,200000)\n",
    "plt.legend(['Degree Distribution','Power Law Fit'],loc='upper right')\n",
    "plt.title('Preferential Attachment') #N = 200000\n",
    "plt.show()"
   ]
  },
  {
   "cell_type": "code",
   "execution_count": null,
   "metadata": {
    "collapsed": true
   },
   "outputs": [],
   "source": [
    "#Question 5, Part B"
   ]
  },
  {
   "cell_type": "code",
   "execution_count": null,
   "metadata": {
    "collapsed": false
   },
   "outputs": [],
   "source": [
    "weighted=[0]\n",
    "N = 1000000\n",
    "pvalues = [.1, .2, .3, .4, .5, .6,.75]\n",
    "degrees = []\n",
    "\n",
    "for p in pvalues:\n",
    "    for j in range(1,N):\n",
    "        rand = random.random()\n",
    "        if rand < p:\n",
    "            i=random.randrange(j)\n",
    "            weighted.append(i)\n",
    "        else: \n",
    "            i = random.choice(weighted)\n",
    "            weighted.append(i)\n",
    "    weighted = dict(Counter(weighted)) #key = degree, value = number of nodes\n",
    "    weighted_i = invert_dict(weighted)\n",
    "    for i in weighted_i: \n",
    "        if i >= 20:\n",
    "            for a in range(len(weighted_i[i])):\n",
    "                degrees_w.append(i)\n",
    "    degrees_w = sorted(degrees_w,reverse=True)\n",
    "    weighted = [0]\n",
    "    xmin2 = 20\n",
    "    alpha2 = 1+1/(1-p)\n",
    "    \n",
    "    print('p =',p,\"prediction of p is \",alpha2)\n",
    "    n2 = len(degrees_w)\n",
    "    xr2 = xmin2*np.random.rand(n2)**(-1/(alpha2-1))\n",
    "    alpha2=1+n2/sum(np.log(xr2/xmin2))\n",
    "    sigma2=(alpha2-1)/math.sqrt(n2)\n",
    "    \n",
    "    print('measured power law exponent is ',alpha2,', standard error is',sigma2)\n",
    "    degrees_w = []"
   ]
  },
  {
   "cell_type": "code",
   "execution_count": null,
   "metadata": {
    "collapsed": true
   },
   "outputs": [],
   "source": [
    "BONUS QUESTIONS "
   ]
  },
  {
   "cell_type": "code",
   "execution_count": null,
   "metadata": {
    "collapsed": true
   },
   "outputs": [],
   "source": [
    "#Question 4, Part D, Part 1, Part 2"
   ]
  },
  {
   "cell_type": "code",
   "execution_count": 48,
   "metadata": {
    "collapsed": false
   },
   "outputs": [
    {
     "name": "stdout",
     "output_type": "stream",
     "text": [
      "875018\n",
      "17.611842966\n",
      "8.47760601168\n"
     ]
    }
   ],
   "source": [
    "F = E.copy()\n",
    "for fp in dist_friend_pairs:\n",
    "    rand_n = random.uniform(0,1)\n",
    "    if rand_n>.5: F.add(fp)\n",
    "print len(F) #number of edges in the edge set F\n",
    "\n",
    "listF = [v for edge in F for v in edge]\n",
    "F_dict = Counter(listF)\n",
    "mean = np.mean(list(F_dict.values()))\n",
    "std = np.std(list(F_dict.values()))\n",
    "print mean\n",
    "print std"
   ]
  },
  {
   "cell_type": "code",
   "execution_count": null,
   "metadata": {
    "collapsed": true
   },
   "outputs": [],
   "source": [
    "#Question 4, Part D, Part 3"
   ]
  },
  {
   "cell_type": "code",
   "execution_count": 51,
   "metadata": {
    "collapsed": false
   },
   "outputs": [
    {
     "name": "stdout",
     "output_type": "stream",
     "text": [
      "0\n"
     ]
    }
   ],
   "source": [
    "neighbors_2 = {}\n",
    "degree_value_3 = 0\n",
    "\n",
    "for i in range(N): \n",
    "    neighbors_2[i] = []\n",
    "for (i,j) in F:\n",
    "    if i in neighbors_2:\n",
    "        neighbors_2[i].append(j)\n",
    "    if j in neighbors_2: \n",
    "        neighbors_2[j].append(i)\n",
    "edges_2 = 0\n",
    "cluster_coeff2 = 0\n",
    "d2 = N\n",
    "\n",
    "for j in neighbors_2:\n",
    "    friend_pairs_2 = [(f1,f2) for f1 in neighbors_2[j] for f2 in neighbors_2[j] if f1<f2]\n",
    "    for a in friend_pairs_2:\n",
    "        if a in F:\n",
    "            edges_2 += 1\n",
    "    if len(friend_pairs_2) == 0 or len(friend_pairs_2) == 1:\n",
    "        d2 -= 1 \n",
    "    else:\n",
    "        cluster_coeff2 += edges_2/len(friend_pairs_2)\n",
    "    edges_2 = 0\n",
    "    \n",
    "print cluster_coeff2/d2 #average clustering coefficient #.1550"
   ]
  },
  {
   "cell_type": "code",
   "execution_count": null,
   "metadata": {
    "collapsed": true
   },
   "outputs": [],
   "source": [
    "#Question 4, Part D, Part 4"
   ]
  },
  {
   "cell_type": "code",
   "execution_count": 54,
   "metadata": {
    "collapsed": false
   },
   "outputs": [
    {
     "data": {
      "image/png": "[encoded data removed]",
      "text/plain": [
       "<matplotlib.figure.Figure at 0x10f96e8d0>"
      ]
     },
     "metadata": {},
     "output_type": "display_data"
    }
   ],
   "source": [
    "N = 100000\n",
    "no_degree_bonus = N-len(F_dict.values())\n",
    "values_bonus = list(F_dict.values())\n",
    "avg_bonus = 0\n",
    "poisson_bonus = []\n",
    "std_bonus = []\n",
    "for i in values_bonus:\n",
    "    avg_bonus+=i\n",
    "avg_bonus = avg_bonus/N\n",
    "\n",
    "for i in range(30):\n",
    "    poisson_bonus.append(poisson(i,avg_bonus))\n",
    "\n",
    "for i in poisson_bonus:\n",
    "    std_bonus.append(math.sqrt(N*i*(1-i)))\n",
    "\n",
    "plt.xlim(-.5,28.5),plt.ylim(0,12000)\n",
    "plt.xlabel('#degrees'),plt.ylabel('#vertices')\n",
    "plt.hist(list(F_dict.values()) + [0]*no_degree_bonus, bins=range(30),align='left');\n",
    "for i in range(30):\n",
    "    plt.errorbar(i,N*poisson(i,avg_bonus),yerr=std_bonus[i],color='r',fmt='o',linewidth=1.5,linestyle='none')\n",
    "plt.title('Degree distribution for N=100000')\n",
    "plt.legend(['data','Poisson, avg=17.6'],loc='upper left')\n",
    "plt.show()\n",
    "\n",
    "#degree distribution not Poissonian"
   ]
  },
  {
   "cell_type": "code",
   "execution_count": 56,
   "metadata": {
    "collapsed": false
   },
   "outputs": [
    {
     "name": "stdout",
     "output_type": "stream",
     "text": [
      "22\n"
     ]
    }
   ],
   "source": [
    "F_array_2 = np.random.randint(N,size=100)\n",
    "F_neighbors = {}\n",
    "F_degree_values = 0\n",
    "for i in range(N): \n",
    "    F_neighbors[i] = []\n",
    "for (i,j) in F:\n",
    "    if i in F_neighbors:\n",
    "        F_neighbors[i].append(j)\n",
    "    if j in F_neighbors: \n",
    "        F_neighbors[j].append(i)\n",
    "for i in F_array_2:\n",
    "    if len(F_neighbors[i]) == 0:\n",
    "        F_degree_values = F_degree_values\n",
    "    else:\n",
    "        rand_choice_2 = random.choice(F_neighbors[i])\n",
    "        F_degree_values += F_dict[rand_choice_2]\n",
    "z = 2*len(F)/N\n",
    "\n",
    "print F_degree_values/100 #this mean is more than mean in earlier part of problem 4 "
   ]
  },
  {
   "cell_type": "code",
   "execution_count": null,
   "metadata": {
    "collapsed": true
   },
   "outputs": [],
   "source": []
  }
 ],
 "metadata": {
  "kernelspec": {
   "display_name": "Python 2",
   "language": "python",
   "name": "python2"
  },
  "language_info": {
   "codemirror_mode": {
    "name": "ipython",
    "version": 2
   },
   "file_extension": ".py",
   "mimetype": "text/x-python",
   "name": "python",
   "nbconvert_exporter": "python",
   "pygments_lexer": "ipython2",
   "version": "2.7.13"
  }
 },
 "nbformat": 4,
 "nbformat_minor": 2
}
