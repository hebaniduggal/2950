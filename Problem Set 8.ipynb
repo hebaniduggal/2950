{
 "cells": [
  {
   "cell_type": "markdown",
   "metadata": {},
   "source": [
    "Hebani Duggal hd288 Problem Set 8 \n",
    "Discussed high level strategies with ta323, tw292, ae277"
   ]
  },
  {
   "cell_type": "code",
   "execution_count": 96,
   "metadata": {
    "collapsed": true
   },
   "outputs": [],
   "source": [
    "import numpy as np"
   ]
  },
  {
   "cell_type": "code",
   "execution_count": 97,
   "metadata": {
    "collapsed": true
   },
   "outputs": [],
   "source": [
    "#Question 1 #Part A "
   ]
  },
  {
   "cell_type": "code",
   "execution_count": 98,
   "metadata": {
    "collapsed": false
   },
   "outputs": [
    {
     "name": "stdout",
     "output_type": "stream",
     "text": [
      "2.375\n",
      "9.0\n"
     ]
    }
   ],
   "source": [
    "state_zero = 1\n",
    "state_seven = 1/0.75\n",
    "state_four = 1/0.6\n",
    "state_six = 1/0.2\n",
    "state_two = 1/0.4\n",
    "state_three = 1/0.6\n",
    "\n",
    "print (state_zero*(0.5)/(2./3.))+((state_zero+state_seven+state_two+state_three)*(0.5)*(0.25/0.75)/(2./3.)) #expected number of steps to reach state 1\n",
    "print state_zero+state_seven+state_four+state_six #expected number of steps to reach state 5 \n",
    "\n"
   ]
  },
  {
   "cell_type": "code",
   "execution_count": 99,
   "metadata": {
    "collapsed": true
   },
   "outputs": [],
   "source": [
    "#Question 1 #Part B"
   ]
  },
  {
   "cell_type": "code",
   "execution_count": 100,
   "metadata": {
    "collapsed": false
   },
   "outputs": [
    {
     "name": "stdout",
     "output_type": "stream",
     "text": [
      "0.2016\n",
      "0.04032\n",
      "1.25\n",
      "0.25\n",
      "0.25\n"
     ]
    }
   ],
   "source": [
    "print ((0.2**3)*(0.2)*(1**2))+(0.2*(1**5)) #answer to a \n",
    "print ((0.2**4)*(0.2))+((0.2)*0.2*(1**4)) #answer to b \n",
    "print 1/0.8 #answer to c\n",
    "print 0.2/(1-0.2) #answer to d\n",
    "print(0.2/(1-0.2)) #answer to e"
   ]
  },
  {
   "cell_type": "code",
   "execution_count": 101,
   "metadata": {
    "collapsed": true
   },
   "outputs": [],
   "source": [
    "#Question 2 #Part A #a"
   ]
  },
  {
   "cell_type": "code",
   "execution_count": 102,
   "metadata": {
    "collapsed": true
   },
   "outputs": [],
   "source": [
    "#for convenience, here are the two as numpy arrays\n",
    "Tm=np.array([[ 0.3  ,  0.205,  0.285,  0.21 ],\n",
    "        [ 0.322,  0.298,  0.078,  0.302],\n",
    "        [ 0.248,  0.246,  0.298,  0.208],\n",
    "        [ 0.177,  0.239,  0.292,  0.292]])\n",
    "Tp=np.array([[ 0.18 ,  0.274,  0.426,  0.12 ],\n",
    "        [ 0.171,  0.367,  0.274,  0.188],\n",
    "        [ 0.161,  0.339,  0.375,  0.125],\n",
    "        [ 0.079,  0.355,  0.384,  0.182]])"
   ]
  },
  {
   "cell_type": "code",
   "execution_count": 115,
   "metadata": {
    "collapsed": false
   },
   "outputs": [
    {
     "data": {
      "text/plain": [
       "0.000611758368"
      ]
     },
     "execution_count": 115,
     "metadata": {},
     "output_type": "execute_result"
    }
   ],
   "source": [
    "#probability for (-) region of human genome \n",
    "\n",
    "((.078)*(.248)*(.205)*(.078)) + ((.078)*(.208)*(.239)*(.078))"
   ]
  },
  {
   "cell_type": "code",
   "execution_count": 104,
   "metadata": {
    "collapsed": false
   },
   "outputs": [
    {
     "data": {
      "text/plain": [
       "0.006643400164000002"
      ]
     },
     "execution_count": 104,
     "metadata": {},
     "output_type": "execute_result"
    }
   ],
   "source": [
    "#probability for (+) region of human genome \n",
    "\n",
    "((.274)*(.161)*(.274)*(.274)) + ((.274)*(.125)*(.355)*(.274))\n"
   ]
  },
  {
   "cell_type": "code",
   "execution_count": 105,
   "metadata": {
    "collapsed": true
   },
   "outputs": [],
   "source": [
    "#Question 2 #Part A #b"
   ]
  },
  {
   "cell_type": "code",
   "execution_count": 118,
   "metadata": {
    "collapsed": false
   },
   "outputs": [
    {
     "name": "stdout",
     "output_type": "stream",
     "text": [
      "0.261886885989\n",
      "0.246299776639\n",
      "0.238891991547\n",
      "0.252921345825\n",
      "0.15467833005\n",
      "0.34096516937\n",
      "0.349841745522\n",
      "0.154514755058\n"
     ]
    }
   ],
   "source": [
    "negative = Tm\n",
    "positive = Tp\n",
    "\n",
    "for i in range(5):\n",
    "    negative = np.dot(negative,negative)\n",
    "    positive = np.dot(positive,positive)\n",
    "\n",
    "print negative[0][0] #expected p-(A)\n",
    "print negative[0][1] #expected p-(C)\n",
    "print negative[0][2] #expected p-(G)\n",
    "print negative[0][3] #expected p-(T)\n",
    "\n",
    "\n",
    "print positive[0][0] #expected p+(A)\n",
    "print positive[0][1] #expected p+(C)\n",
    "print positive[0][2] #expected p+(G)\n",
    "print positive[0][3] #expected p+(T)"
   ]
  },
  {
   "cell_type": "code",
   "execution_count": 106,
   "metadata": {
    "collapsed": true
   },
   "outputs": [],
   "source": [
    "#Question 2 #Part B #a "
   ]
  },
  {
   "cell_type": "code",
   "execution_count": 138,
   "metadata": {
    "collapsed": false
   },
   "outputs": [
    {
     "name": "stdout",
     "output_type": "stream",
     "text": [
      "If score is positive, the string is more likely to have come from the coding regions. If the score is negative, the string is more likely to have come from the non-coding regions\n",
      "\n",
      "('CAGGGTGAGCCCCACTCATACATTCCATGCAGTTTCCAAGGTCCAGGAAG', -7.1004305580689362)\n",
      "('TTGAGGTGCTTTTTGATGACCTTGTGAGGATACTCCCACCCATTGCCCCG', -5.2663882759719769)\n",
      "('TGGTGGTCACCTCAGCTGGCGGCCCGCGAATGCTTGCCTCCAACAGGACT', 4.7269125750144667)\n",
      "('TCAAAGGTAACCCAGCAGCTCTGAGTAGAACCTGGCTCATGTGCTCTGAA', -7.2382374569502872)\n",
      "('GAATGGAGCCCCCACCAGCGGGATGATAGCTGGCCCCACGACCTCGAACG', 5.3953324229458559)\n",
      "('CTGGGTGGCGCTGATCAACGCCTAGCCACCCCTGGGGTGGTGCGAACGCA', 6.2567585209722978)\n",
      "('GAGGGGAACCCTCCGAACCTTGCCCGCTCGGCCACCTACAACGACGGGGG', 9.024094829645648)\n",
      "('AGGGGTTAACCAAATTTTCAGTCCCCCCCTATAGGACCAGGTCCTTGGCA', -8.1538262752239632)\n",
      "('CGACGCCAGGCGTAATCTGGCGCCAGAGTCCTGGGGCGGCTCAGAGGGGT', 9.9726386229348378)\n",
      "('TTATGCAATCATGGAATGCCTGCATGCCCGTTGGTCCATTTTCCCTGGAG', -7.1088328680709765)\n"
     ]
    }
   ],
   "source": [
    "def value_r(T_pos,T_min):\n",
    "    r=np.log2(T_pos)-np.log2(T_min)\n",
    "    return r\n",
    "\n",
    "ns = ['AA','AC','AG','AT','CA','CC','CG','CT','GA','GC','GG','GT','TA','TC','TG','TT']\n",
    "\n",
    "snippet_1 = 'CAGGGTGAGCCCCACTCATACATTCCATGCAGTTTCCAAGGTCCAGGAAG'\n",
    "snippet_2 = 'TTGAGGTGCTTTTTGATGACCTTGTGAGGATACTCCCACCCATTGCCCCG'\n",
    "snippet_3 = 'TGGTGGTCACCTCAGCTGGCGGCCCGCGAATGCTTGCCTCCAACAGGACT'\n",
    "snippet_4 = 'TCAAAGGTAACCCAGCAGCTCTGAGTAGAACCTGGCTCATGTGCTCTGAA'\n",
    "snippet_5 = 'GAATGGAGCCCCCACCAGCGGGATGATAGCTGGCCCCACGACCTCGAACG'\n",
    "snippet_6 = 'CTGGGTGGCGCTGATCAACGCCTAGCCACCCCTGGGGTGGTGCGAACGCA'\n",
    "snippet_7 = 'GAGGGGAACCCTCCGAACCTTGCCCGCTCGGCCACCTACAACGACGGGGG'\n",
    "snippet_8 = 'AGGGGTTAACCAAATTTTCAGTCCCCCCCTATAGGACCAGGTCCTTGGCA'\n",
    "snippet_9 = 'CGACGCCAGGCGTAATCTGGCGCCAGAGTCCTGGGGCGGCTCAGAGGGGT'\n",
    "snippet_10 = 'TTATGCAATCATGGAATGCCTGCATGCCCGTTGGTCCATTTTCCCTGGAG'\n",
    "\n",
    "all_snippets = [s1,s2,s3,s4,s5,s6,s7,s8,s9,s10]\n",
    "\n",
    "list_p = []\n",
    "list_m = []\n",
    "dict_p = {}\n",
    "dict_m = {}\n",
    "\n",
    "for num in Tp:\n",
    "    for a in num: \n",
    "        list_p.append(a)\n",
    "for num in Tm:\n",
    "    for a in num:\n",
    "        list_m.append(a)\n",
    "for x in range(len(list_p)):\n",
    "    dict_p[ns[x]] = list_p[x]\n",
    "    dict_m[ns[x]] = list_m[x]\n",
    "\n",
    "print 'If score is positive, the string is more likely to have come from the coding regions. If the score is negative, the string is more likely to have come from the non-coding regions.'\n",
    "print ('') #page break \n",
    "\n",
    "\n",
    "value_p = 1\n",
    "value_m = 1\n",
    "\n",
    "for s in all_snippets:\n",
    "    for a in range(len(s1)-1):\n",
    "        string = s[a:a+2]\n",
    "    #print(string)\n",
    "        if string in dict_p:\n",
    "            value_p = value_p*dict_p[string]\n",
    "        if string in dict_m:\n",
    "            value_m = value_m*dict_m[string]\n",
    "    print(s,value_r(value_p,value_m))\n",
    "    \n",
    "    value_p = 1\n",
    "    value_m = 1  "
   ]
  },
  {
   "cell_type": "code",
   "execution_count": 110,
   "metadata": {
    "collapsed": true
   },
   "outputs": [],
   "source": [
    "#Question 2 #Part B #b"
   ]
  },
  {
   "cell_type": "code",
   "execution_count": 143,
   "metadata": {
    "collapsed": false
   },
   "outputs": [
    {
     "name": "stdout",
     "output_type": "stream",
     "text": [
      "s1 log odds ratios:\n",
      "[-0.73696559416620622, 0.57989151117373416, -0.62327943227225824, -0.80735492205760417, -0.6820299186813209, 0.57080840641129582, -0.91306436322871898, -0.80735492205760417, -0.6820299186813209, -0.6820299186813209, -0.6820299186813209, -0.6820299186813209, -1.1638248019058943, -0.73696559416620622, -0.73696559416620622, 0.41855198345508077, -0.68381588764744139, 0.3951379418411391, 0.33157826492108178, -0.62327943227225824, -0.80735492205760417, -1.1638248019058943, 0.41855198345508077, 0.30046773238105112, 1.8126298640982785, 0.46262695779710411, 1.8126298640982785, 0.46262695779710411, 1.8126298640982785, 0.46262695779710411, 0.30046773238105112, 1.8126298640982785, 0.33157826492108178, 0.33157826492108178, 0.33157826492108178, 0.46262695779710411, -0.91306436322871898, 0.41855198345508077, 0.30046773238105112, -0.91306436322871898, 0.41855198345508077, 0.30046773238105112, 1.8126298640982785, 0.46262695779710411, 0.30046773238105112, -0.91306436322871898, 0.57989151117373416, 0.33157826492108178, 0.46262695779710411]\n",
      "s2 log odds ratio\n",
      "[-0.80735492205760417, 0.57080840641129582, 1.8126298640982785, 0.46262695779710411, 1.8126298640982785, 0.33157826492108178, 0.46262695779710411, 0.30046773238105112, -0.91306436322871898, -0.73696559416620622, 0.57989151117373416, 0.33157826492108178, 0.33157826492108178, 0.46262695779710411, 1.8126298640982785, 0.46262695779710411, 0.30046773238105112, 0.30046773238105112, 0.30046773238105112, -0.91306436322871898, -0.73696559416620622, -0.80735492205760417, -1.1638248019058943, -0.80735492205760417, -1.1638248019058943, -0.73696559416620622, -0.73696559416620622, -0.73696559416620622, 0.57989151117373416, -0.73465543347900519, -0.6820299186813209, -0.6820299186813209, -0.6820299186813209, -0.6820299186813209, -0.6820299186813209, -0.6820299186813209, 0.57080840641129582, -0.91306436322871898, -0.80735492205760417, -0.6820299186813209, 0.3951379418411391, -0.73465543347900519, -0.6820299186813209, -1.1638248019058943, 0.57989151117373416, -0.62327943227225824, 0.57989151117373416, 0.33157826492108178, -0.73465543347900519]\n"
     ]
    }
   ],
   "source": [
    "s1 = 'AAGATTCATTTTTAAACTGGATACCGCGCGCCGGGGCACCACCGCCAGGC'\n",
    "s2 = 'ATCGCGGCCAAGGGCGCCCCAATATAAAAGTTTTTTTCATTGTTAGAGGT'\n",
    "\n",
    "\n",
    "values_1 = []\n",
    "keys_1 = []\n",
    "values_2 = []\n",
    "keys_2 = []\n",
    "\n",
    "val_1 = 0\n",
    "val_2 = 0\n",
    "\n",
    "difference_1 = []\n",
    "difference_2 = []\n",
    "\n",
    "\n",
    "\n",
    "for a in range(len(s1)-1):\n",
    "    string1 = s1[a:a+2]\n",
    "    string2 = s2[a:a+2]\n",
    "    \n",
    "    if string1 in dict_p:\n",
    "        val_1 = np.log2(dict_p[string1]/dict_m[string1])\n",
    "        val_2 = np.log2(dict_p[string2]/dict_m[string2])\n",
    "        values_1.append(val_1),keys_1.append(string1) \n",
    "        values_2.append(val_2),keys_2.append(string2)\n",
    "        \n",
    "        \n",
    "print(\"s1 log odds ratios:\")\n",
    "print(values_1)\n",
    "\n",
    "#transition point for s1 is at index 21/22 or [-1.1638248019058943, 0.41855198345508077]\n",
    "\n",
    "\n",
    "print(\"s2 log odds ratio\")\n",
    "print(values_2)\n",
    "\n",
    "\n",
    "#transition point for s2 is at index 18/19 or [0.30046773238105112, -0.91306436322871898]\n"
   ]
  },
  {
   "cell_type": "code",
   "execution_count": 112,
   "metadata": {
    "collapsed": true
   },
   "outputs": [],
   "source": [
    "#Question 3 #Part A "
   ]
  },
  {
   "cell_type": "code",
   "execution_count": 113,
   "metadata": {
    "collapsed": false
   },
   "outputs": [],
   "source": [
    "def viterbi (T,e,w, snames, O):\n",
    "    states=range(len(snames)) \n",
    "    v = [w[j]*e[j][O[0]] for j in states]\n",
    "    path=snames\n",
    "    \n",
    "    for o in O[1:]:\n",
    "        nv = [v*T[:,j] for j in states]\n",
    "        v = [max(nv[j])*e[j][o] for j in states]\n",
    "        path = [path[np.argmax(nv[j])] + snames[j] for j in states]\n",
    "        \n",
    "    return path[np.argmax(v)], max(v)"
   ]
  },
  {
   "cell_type": "code",
   "execution_count": 114,
   "metadata": {
    "collapsed": false
   },
   "outputs": [
    {
     "data": {
      "text/plain": [
       "('FLLLFF', 1.546875e-05)"
      ]
     },
     "execution_count": 114,
     "metadata": {},
     "output_type": "execute_result"
    }
   ],
   "source": [
    "T = np.array([[.75,.25],[.4,.6]])\n",
    "e = [{str(o): 1/6. for o in range(1,7)},\n",
    "    {str(o): 1/10. if o<6 else 1/2. for o in range(1,7) }]\n",
    "o = '666654'\n",
    "w = [.99,.01]\n",
    "state_names = ['F','L']\n",
    "\n",
    "viterbi(T,e,w,state_names,o) #optimal state sequence "
   ]
  },
  {
   "cell_type": "code",
   "execution_count": null,
   "metadata": {
    "collapsed": true
   },
   "outputs": [],
   "source": [
    "#Question 3 #Part B #Part i "
   ]
  },
  {
   "cell_type": "code",
   "execution_count": 144,
   "metadata": {
    "collapsed": false
   },
   "outputs": [
    {
     "name": "stdout",
     "output_type": "stream",
     "text": [
      "4.0\n",
      "2.5\n"
     ]
    }
   ],
   "source": [
    "print(1/0.25) #expected length of number of consecutive states in hidden F state for transition matrix \n",
    "print(1/0.4) #expected length of number of consecutive states in hidden L state for transition matrix "
   ]
  },
  {
   "cell_type": "code",
   "execution_count": null,
   "metadata": {
    "collapsed": true
   },
   "outputs": [],
   "source": [
    "#Question 3 #Part B #Part ii "
   ]
  },
  {
   "cell_type": "code",
   "execution_count": 146,
   "metadata": {
    "collapsed": false
   },
   "outputs": [
    {
     "name": "stdout",
     "output_type": "stream",
     "text": [
      "[[ 0.98  0.02]\n",
      " [ 0.05  0.95]]\n"
     ]
    }
   ],
   "source": [
    "fprob = 1./50\n",
    "lprob = 1./20\n",
    "T_2 = np.array([[1-fprob,fprob],[lprob,1-lprob]]) \n",
    "\n",
    "print T_2 #transition matrix "
   ]
  },
  {
   "cell_type": "code",
   "execution_count": null,
   "metadata": {
    "collapsed": true
   },
   "outputs": [],
   "source": []
  }
 ],
 "metadata": {
  "kernelspec": {
   "display_name": "Python 2",
   "language": "python",
   "name": "python2"
  },
  "language_info": {
   "codemirror_mode": {
    "name": "ipython",
    "version": 2
   },
   "file_extension": ".py",
   "mimetype": "text/x-python",
   "name": "python",
   "nbconvert_exporter": "python",
   "pygments_lexer": "ipython2",
   "version": "2.7.13"
  }
 },
 "nbformat": 4,
 "nbformat_minor": 2
}
