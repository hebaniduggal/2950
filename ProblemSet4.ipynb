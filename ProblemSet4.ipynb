{
 "cells": [
  {
   "cell_type": "markdown",
   "metadata": {},
   "source": [
    "Hebani Duggal hd288 Problem Set 4 "
   ]
  },
  {
   "cell_type": "code",
   "execution_count": 2,
   "metadata": {
    "collapsed": false
   },
   "outputs": [],
   "source": [
    "%matplotlib inline\n",
    "import matplotlib.pyplot as plt\n",
    "import numpy as np"
   ]
  },
  {
   "cell_type": "markdown",
   "metadata": {},
   "source": [
    "1. All answers (except for the 1b graph) are boxed on handwritten pdf. The following is just calculating cdf to plug in/misc work. "
   ]
  },
  {
   "cell_type": "code",
   "execution_count": 3,
   "metadata": {
    "collapsed": true
   },
   "outputs": [],
   "source": [
    "def gaussian(x,mu=0.,sigma=1.):\n",
    "    return np.exp(-(x-mu)**2/(2.*sigma**2))/(sigma*np.sqrt(2.*np.pi))"
   ]
  },
  {
   "cell_type": "code",
   "execution_count": 4,
   "metadata": {
    "collapsed": false
   },
   "outputs": [
    {
     "name": "stdout",
     "output_type": "stream",
     "text": [
      "0.308519934616\n"
     ]
    }
   ],
   "source": [
    "# \"cumulative distribution function\"\n",
    "def cdf(xmax): return .0001*sum(gaussian(np.arange(-6,xmax,.0001)))\n",
    "print cdf(-.5)"
   ]
  },
  {
   "cell_type": "code",
   "execution_count": 5,
   "metadata": {
    "collapsed": false
   },
   "outputs": [
    {
     "name": "stdout",
     "output_type": "stream",
     "text": [
      "0.0227474315031\n"
     ]
    }
   ],
   "source": [
    "print cdf (-2)"
   ]
  },
  {
   "cell_type": "markdown",
   "metadata": {},
   "source": [
    "1b. "
   ]
  },
  {
   "cell_type": "code",
   "execution_count": 6,
   "metadata": {
    "collapsed": false,
    "scrolled": false
   },
   "outputs": [
    {
     "data": {
      "text/plain": [
       "<matplotlib.collections.PolyCollection at 0x10b62f350>"
      ]
     },
     "execution_count": 6,
     "metadata": {},
     "output_type": "execute_result"
    },
    {
     "data": {
      "image/png": "[encoded data removed]",
      "text/plain": [
       "<matplotlib.figure.Figure at 0x10b5fc690>"
      ]
     },
     "metadata": {},
     "output_type": "display_data"
    }
   ],
   "source": [
    "plt.figure(figsize=(12,7))\n",
    "x=np.arange(-5,5.1,.1)\n",
    "y=gaussian(x)\n",
    "\n",
    "def gfig(xt,yt,t,t0,sb):\n",
    "    plt.subplot(2,2,sb)\n",
    "    plt.plot(x,y,'k')\n",
    "    plt.gca().set_axisbelow(True)\n",
    "    plt.yticks(np.arange(0,.5,.1))\n",
    "    plt.grid('on')\n",
    "    plt.axis([-4,4,0,.45])\n",
    "    plt.text(xt,yt,t,fontsize=15)\n",
    "    plt.text(-3.5,.35,t0,fontsize=14)\n",
    "    \n",
    "gfig(-.75,.15,.691,'cdf(-.5)',1)\n",
    "plt.fill_between(x,y,color='gold',where=x>-.5)\n",
    "\n",
    "gfig(1.5,.15,.977,'cdf(2)',2)\n",
    "plt.fill_between(x,y,color='gold',where=x>-2)"
   ]
  },
  {
   "cell_type": "code",
   "execution_count": 33,
   "metadata": {
    "collapsed": false
   },
   "outputs": [
    {
     "name": "stdout",
     "output_type": "stream",
     "text": [
      "0.158643154608\n"
     ]
    }
   ],
   "source": [
    "print cdf (-1)"
   ]
  },
  {
   "cell_type": "code",
   "execution_count": 34,
   "metadata": {
    "collapsed": false
   },
   "outputs": [
    {
     "name": "stdout",
     "output_type": "stream",
     "text": [
      "0.933199275436\n",
      "0.841356845392\n"
     ]
    }
   ],
   "source": [
    "print 1 - 0.0668007245635\n",
    "print 1 - 0.158643154608"
   ]
  },
  {
   "cell_type": "code",
   "execution_count": 8,
   "metadata": {
    "collapsed": false
   },
   "outputs": [
    {
     "name": "stdout",
     "output_type": "stream",
     "text": [
      "0.0139016728623\n"
     ]
    }
   ],
   "source": [
    "print cdf (-2.2)"
   ]
  },
  {
   "cell_type": "code",
   "execution_count": 9,
   "metadata": {
    "collapsed": false
   },
   "outputs": [
    {
     "name": "stdout",
     "output_type": "stream",
     "text": [
      "0.158643154608\n"
     ]
    }
   ],
   "source": [
    "print cdf (-1)"
   ]
  },
  {
   "cell_type": "code",
   "execution_count": 10,
   "metadata": {
    "collapsed": false
   },
   "outputs": [
    {
     "name": "stdout",
     "output_type": "stream",
     "text": [
      "2.85590958214e-07\n"
     ]
    }
   ],
   "source": [
    "print cdf (-5)"
   ]
  },
  {
   "cell_type": "code",
   "execution_count": 11,
   "metadata": {
    "collapsed": true
   },
   "outputs": [],
   "source": [
    "from scipy.misc import factorial\n",
    "def poisson(m,z): return np.exp(-z)*z**m/factorial(m)"
   ]
  },
  {
   "cell_type": "markdown",
   "metadata": {},
   "source": [
    "2a."
   ]
  },
  {
   "cell_type": "code",
   "execution_count": 12,
   "metadata": {
    "collapsed": false
   },
   "outputs": [
    {
     "name": "stdout",
     "output_type": "stream",
     "text": [
      "92.8250475438\n",
      "34.0782366352\n",
      "6.25545713627\n",
      "0.765507996644\n",
      "0.0702589531222\n",
      "0.00515873957211\n",
      "0.00031564890535\n"
     ]
    }
   ],
   "source": [
    "prob0 = poisson(0, z = 0.3671232877)\n",
    "print prob0*134\n",
    "                \n",
    "prob1 = poisson(1, z = 0.3671232877)\n",
    "print prob1*134\n",
    "\n",
    "prob2 = poisson(2, z = 0.3671232877)\n",
    "print prob2*134\n",
    "\n",
    "prob3 = poisson(3, z = 0.3671232877)\n",
    "print prob3*134\n",
    "\n",
    "prob4 = poisson(4, z = 0.3671232877)\n",
    "print prob4*134\n",
    "\n",
    "prob5 = poisson(5, z = 0.3671232877)\n",
    "print prob5*134\n",
    "\n",
    "prob6 = poisson(6, z = 0.3671232877)\n",
    "print prob6*134\n",
    "\n",
    " "
   ]
  },
  {
   "cell_type": "code",
   "execution_count": 13,
   "metadata": {
    "collapsed": false
   },
   "outputs": [
    {
     "name": "stdout",
     "output_type": "stream",
     "text": [
      "[252.84434592893197, 92.82504754651201, 17.039118316756998, 2.085152378488984, 0.19137699912159159, 0.014051790620434693, 0.00085978992837362994]\n",
      "[15.901080023977364, 9.6345756287712021, 4.1278466924968278, 1.4440056712108107, 0.4374665691473939, 0.11854024894707575, 0.029322174686977599]\n"
     ]
    }
   ],
   "source": [
    "from scipy.stats import poisson\n",
    "\n",
    "mu=134.0/365.0\n",
    "\n",
    "values = []\n",
    "std = []\n",
    "for x in range(0,7):\n",
    "    y = poisson.pmf(x, mu)*365\n",
    "    values.append(y)\n",
    "    std.append(y**.5)\n",
    "\n",
    "print values\n",
    "print std\n",
    "\n",
    "\n"
   ]
  },
  {
   "cell_type": "code",
   "execution_count": 14,
   "metadata": {
    "collapsed": false
   },
   "outputs": [
    {
     "data": {
      "text/plain": [
       "<Container object of 3 artists>"
      ]
     },
     "execution_count": 14,
     "metadata": {},
     "output_type": "execute_result"
    },
    {
     "data": {
      "image/png": "[encoded data removed]",
      "text/plain": [
       "<matplotlib.figure.Figure at 0x11031d9d0>"
      ]
     },
     "metadata": {},
     "output_type": "display_data"
    }
   ],
   "source": [
    "plt.figure(figsize=(8,6))\n",
    "plt.xlabel('Expected Bdays'),plt.ylabel('Days')\n",
    "plt.title('Expected vs Actual Class Data')\n",
    "plt.bar(np.arange(0,4),[259, 82,20,4],align='center');\n",
    "x = np.arange(0, 7, 1)\n",
    "plt.errorbar(x,values,std)"
   ]
  },
  {
   "cell_type": "markdown",
   "metadata": {},
   "source": [
    "2(a)(iii) below "
   ]
  },
  {
   "cell_type": "code",
   "execution_count": 15,
   "metadata": {
    "collapsed": false
   },
   "outputs": [
    {
     "name": "stdout",
     "output_type": "stream",
     "text": [
      "[185.65009508768341, 68.156473270407957, 12.510914272534668, 1.5310159932885929, 0.14051790624434732, 0.010317479144229041, 0.00063129781070092399, 3.3109161111762214e-05, 1.5193930100423913e-06, 6.1978284128351404e-08, 2.2753671435205078e-09]\n"
     ]
    }
   ],
   "source": [
    "x = 10\n",
    "mu = .3671232877\n",
    "accum = []\n",
    "for i in range(11):\n",
    "    accum.append(poisson.pmf(i,mu)*268)\n",
    "\n",
    "print accum"
   ]
  },
  {
   "cell_type": "markdown",
   "metadata": {},
   "source": [
    "2b."
   ]
  },
  {
   "cell_type": "code",
   "execution_count": 16,
   "metadata": {
    "collapsed": true
   },
   "outputs": [],
   "source": [
    "from scipy.misc import factorial\n",
    "def poisson(m,z): return np.exp(-z)*z**m/factorial(m)"
   ]
  },
  {
   "cell_type": "code",
   "execution_count": 17,
   "metadata": {
    "collapsed": false
   },
   "outputs": [
    {
     "name": "stdout",
     "output_type": "stream",
     "text": [
      "0.0497870683679\n"
     ]
    }
   ],
   "source": [
    "prob0 = poisson(0,z=3)\n",
    "print prob0"
   ]
  },
  {
   "cell_type": "code",
   "execution_count": 18,
   "metadata": {
    "collapsed": false
   },
   "outputs": [
    {
     "name": "stdout",
     "output_type": "stream",
     "text": [
      "0.149361205104\n"
     ]
    }
   ],
   "source": [
    "prob1 = poisson(1,z=3)\n",
    "print prob1"
   ]
  },
  {
   "cell_type": "code",
   "execution_count": 19,
   "metadata": {
    "collapsed": false
   },
   "outputs": [
    {
     "name": "stdout",
     "output_type": "stream",
     "text": [
      "0.224041807655\n"
     ]
    }
   ],
   "source": [
    "prob2 = poisson(2,z=3)\n",
    "print prob2"
   ]
  },
  {
   "cell_type": "code",
   "execution_count": 20,
   "metadata": {
    "collapsed": false
   },
   "outputs": [
    {
     "name": "stdout",
     "output_type": "stream",
     "text": [
      "0.224041807655\n"
     ]
    }
   ],
   "source": [
    "prob3 = poisson(3,z=3)\n",
    "print prob3"
   ]
  },
  {
   "cell_type": "code",
   "execution_count": 21,
   "metadata": {
    "collapsed": false
   },
   "outputs": [
    {
     "name": "stdout",
     "output_type": "stream",
     "text": [
      "0.647231888782\n"
     ]
    }
   ],
   "source": [
    "ProbUnderFour = prob0 + prob1 + prob2 + prob3\n",
    "print ProbUnderFour"
   ]
  },
  {
   "cell_type": "markdown",
   "metadata": {},
   "source": [
    "2c."
   ]
  },
  {
   "cell_type": "code",
   "execution_count": 22,
   "metadata": {
    "collapsed": false
   },
   "outputs": [
    {
     "name": "stdout",
     "output_type": "stream",
     "text": [
      "12.7663475178\n"
     ]
    }
   ],
   "source": [
    "prob0 = poisson(0, z=7)\n",
    "print prob0*14000"
   ]
  },
  {
   "cell_type": "code",
   "execution_count": 23,
   "metadata": {
    "collapsed": false
   },
   "outputs": [
    {
     "name": "stdout",
     "output_type": "stream",
     "text": [
      "1277.16668292\n"
     ]
    }
   ],
   "source": [
    "prob4 = poisson(4, z=7)\n",
    "print prob4*14000"
   ]
  },
  {
   "cell_type": "code",
   "execution_count": 24,
   "metadata": {
    "collapsed": false
   },
   "outputs": [
    {
     "name": "stdout",
     "output_type": "stream",
     "text": [
      "2086.03891544\n"
     ]
    }
   ],
   "source": [
    "prob7 = poisson(7, z=7)\n",
    "print prob7*14000"
   ]
  },
  {
   "cell_type": "code",
   "execution_count": 25,
   "metadata": {
    "collapsed": false
   },
   "outputs": [
    {
     "name": "stdout",
     "output_type": "stream",
     "text": [
      "993.765761106\n"
     ]
    }
   ],
   "source": [
    "prob10 = poisson(10, z=7)\n",
    "print prob10*14000"
   ]
  },
  {
   "cell_type": "code",
   "execution_count": 26,
   "metadata": {
    "collapsed": false
   },
   "outputs": [
    {
     "name": "stdout",
     "output_type": "stream",
     "text": [
      "20.2775606387\n"
     ]
    }
   ],
   "source": [
    "prob16 = poisson(16, z=7)\n",
    "print prob16*14000"
   ]
  },
  {
   "cell_type": "markdown",
   "metadata": {},
   "source": [
    "3. "
   ]
  },
  {
   "cell_type": "code",
   "execution_count": 27,
   "metadata": {
    "collapsed": true
   },
   "outputs": [],
   "source": [
    "from ps4data import wikidata"
   ]
  },
  {
   "cell_type": "code",
   "execution_count": 28,
   "metadata": {
    "collapsed": false
   },
   "outputs": [
    {
     "name": "stdout",
     "output_type": "stream",
     "text": [
      "74638 total, from \"00:00, 5 March 2017 GMT\" to \"23:59, 11 March 2017 GMT\"\n"
     ]
    }
   ],
   "source": [
    "print len(wikidata), 'total, from \"' + wikidata[0] + ' GMT\" to \"' + wikidata[-1] + ' GMT\"'"
   ]
  },
  {
   "cell_type": "code",
   "execution_count": 29,
   "metadata": {
    "collapsed": true
   },
   "outputs": [],
   "source": [
    "%matplotlib inline\n",
    "import matplotlib.pyplot as plt\n",
    "import numpy as np\n",
    "\n",
    "#http://docs.python.org/2/library/time.html\n",
    "from time import time,strptime,strftime,gmtime\n",
    "from calendar import timegm\n",
    "\n",
    "def ts2utc(ts):    #convert timestring to utc\n",
    "    return int(timegm(strptime(ts,'%H:%M, %d %B %Y')))\n",
    "\n",
    "def utc2ts(utc):   #convert utc to timestring\n",
    "    return strftime('%d/%b/%Y:%H:%M',gmtime(utc))\n",
    "\n",
    "min=60\n",
    "hr=60*60\n",
    "day=24*hr\n",
    "\n",
    "mar5=ts2utc('00:00, 5 March 2017')  # = 1488672000"
   ]
  },
  {
   "cell_type": "markdown",
   "metadata": {},
   "source": [
    "3a. "
   ]
  },
  {
   "cell_type": "code",
   "execution_count": 30,
   "metadata": {
    "collapsed": false
   },
   "outputs": [
    {
     "ename": "NameError",
     "evalue": "name 'Counter' is not defined",
     "output_type": "error",
     "traceback": [
      "\u001b[0;31m---------------------------------------------------------------------------\u001b[0m",
      "\u001b[0;31mNameError\u001b[0m                                 Traceback (most recent call last)",
      "\u001b[0;32m<ipython-input-30-99a1a2c4d275>\u001b[0m in \u001b[0;36m<module>\u001b[0;34m()\u001b[0m\n\u001b[1;32m      9\u001b[0m \u001b[0;34m\u001b[0m\u001b[0m\n\u001b[1;32m     10\u001b[0m \u001b[0mx\u001b[0m \u001b[0;34m=\u001b[0m \u001b[0;34m[\u001b[0m\u001b[0;34m]\u001b[0m\u001b[0;34m\u001b[0m\u001b[0m\n\u001b[0;32m---> 11\u001b[0;31m \u001b[0mvallist\u001b[0m \u001b[0;34m=\u001b[0m \u001b[0mlist\u001b[0m\u001b[0;34m(\u001b[0m\u001b[0mCounter\u001b[0m\u001b[0;34m(\u001b[0m\u001b[0mwikidata\u001b[0m\u001b[0;34m)\u001b[0m\u001b[0;34m.\u001b[0m\u001b[0mvalues\u001b[0m\u001b[0;34m(\u001b[0m\u001b[0;34m)\u001b[0m\u001b[0;34m)\u001b[0m\u001b[0;34m\u001b[0m\u001b[0m\n\u001b[0m\u001b[1;32m     12\u001b[0m \u001b[0mkeylist\u001b[0m \u001b[0;34m=\u001b[0m \u001b[0mlist\u001b[0m\u001b[0;34m(\u001b[0m\u001b[0mCounter\u001b[0m\u001b[0;34m(\u001b[0m\u001b[0mwikidata\u001b[0m\u001b[0;34m)\u001b[0m\u001b[0;34m.\u001b[0m\u001b[0mkeys\u001b[0m\u001b[0;34m(\u001b[0m\u001b[0;34m)\u001b[0m\u001b[0;34m)\u001b[0m\u001b[0;34m\u001b[0m\u001b[0m\n\u001b[1;32m     13\u001b[0m \u001b[0;32mfor\u001b[0m \u001b[0mi\u001b[0m \u001b[0;32min\u001b[0m \u001b[0mrange\u001b[0m\u001b[0;34m(\u001b[0m\u001b[0mlen\u001b[0m\u001b[0;34m(\u001b[0m\u001b[0mkeylist\u001b[0m\u001b[0;34m)\u001b[0m\u001b[0;34m)\u001b[0m\u001b[0;34m:\u001b[0m\u001b[0;34m\u001b[0m\u001b[0m\n",
      "\u001b[0;31mNameError\u001b[0m: name 'Counter' is not defined"
     ]
    }
   ],
   "source": [
    "min=60\n",
    "hr=60*60\n",
    "day=24*hr\n",
    "\n",
    "mar5=ts2utc('00:00, 5 March 2017')\n",
    "mar59start=ts2utc('09:00, 5 March 2017')\n",
    "mar59end=ts2utc('09:59, 5 March 2017')\n",
    "\n",
    "\n",
    "x = []\n",
    "vallist = list(Counter(wikidata).values())\n",
    "keylist = list(Counter(wikidata).keys())\n",
    "for i in range(len(keylist)):\n",
    "    if ts2utc(keylist[i]) <= mar59end:\n",
    "        x.append(vallist[i])\n",
    "exp = []\n",
    "std = []\n",
    "r = max(x)\n",
    "for i in range(r):\n",
    "    now = x.count(i)\n",
    "    exp.append(now)\n",
    "    std.append(now**.5)\n",
    "\n",
    "\n"
   ]
  },
  {
   "cell_type": "code",
   "execution_count": null,
   "metadata": {
    "collapsed": false
   },
   "outputs": [],
   "source": [
    "plt.figure(figsize=(8,6))\n",
    "plt.xlabel('#edits/minute'),plt.ylabel('#minutes with that many edits')\n",
    "plt.hist(x,align='left');\n",
    "plt.errorbar(range(r),exp,std)\n",
    "\n"
   ]
  },
  {
   "cell_type": "markdown",
   "metadata": {},
   "source": [
    "3b."
   ]
  },
  {
   "cell_type": "code",
   "execution_count": null,
   "metadata": {
    "collapsed": false
   },
   "outputs": [],
   "source": [
    "starts =['14:00, 6 March 2017', '21:00, 7 March 2017', '02:00, 9 March 2017', '05:00, 10 March 2017', '23:00, 10 March 2017']\n",
    "y = []\n",
    "\n",
    "for i in range(len(starts)):\n",
    "     y.append(ts2utc(starts[i]))\n",
    "z = []\n",
    "for i in range(len(y)):\n",
    "    z.append(y[i]+59)\n"
   ]
  },
  {
   "cell_type": "code",
   "execution_count": null,
   "metadata": {
    "collapsed": false
   },
   "outputs": [],
   "source": [
    "counts = []\n",
    "\n",
    "vallist = list(Counter(wikidata).values())\n",
    "keylist = list(Counter(wikidata).keys())\n",
    "for i in range(len(keylist)):\n",
    "    current = ts2utc(keylist[i])\n",
    "    for j in range(len(y)):\n",
    "        if (current>=y[j]) & (current >= z[j]):\n",
    "            counts.append(vallist[i])\n",
    "#print counts\n",
    "exp = []\n",
    "std = []\n",
    "r = max(counts)\n",
    "#print r\n",
    "for i in range(r):\n",
    "    now = counts.count(i)\n",
    "    exp.append(now)\n",
    "    std.append(now**.5)\n",
    "\n",
    "print exp\n",
    "print std\n",
    "\n",
    "plt.figure(figsize=(8,6))\n",
    "plt.xlabel('#edits/minute'),plt.ylabel('#minutes with that many edits')\n",
    "plt.hist(counts,align='left',bins = r);  \n",
    "plt.errorbar(range(r),exp,std)\n"
   ]
  },
  {
   "cell_type": "markdown",
   "metadata": {},
   "source": [
    "3c. "
   ]
  },
  {
   "cell_type": "code",
   "execution_count": null,
   "metadata": {
    "collapsed": false
   },
   "outputs": [],
   "source": [
    "start =ts2utc('16:00, 6 March 2017')\n",
    "end = ts2utc('18:59, 6 March 2017')\n",
    "\n",
    "\n",
    "\n",
    "\n",
    "counts = []\n",
    "\n",
    "vallist = list(Counter(wikidata).values())\n",
    "keylist = list(Counter(wikidata).keys())\n",
    "for i in range(len(keylist)):\n",
    "    current = ts2utc(keylist[i])\n",
    "    if (current>=start) & (current >= end):\n",
    "        counts.append(vallist[i])\n",
    "#print counts\n",
    "exp = []\n",
    "std = []\n",
    "r = max(counts)\n",
    "#print r\n",
    "for i in range(r):\n",
    "    now = counts.count(i)\n",
    "    exp.append(now)\n",
    "    std.append(now**.5)\n",
    "\n",
    "print exp\n",
    "print std\n",
    "\n",
    "plt.figure(figsize=(8,6))\n",
    "plt.xlabel('#edits/minute'),plt.ylabel('#minutes with that many edits')\n",
    "plt.hist(counts,align='left',bins = r);  \n",
    "plt.errorbar(range(r),exp,std)"
   ]
  },
  {
   "cell_type": "code",
   "execution_count": null,
   "metadata": {
    "collapsed": true
   },
   "outputs": [],
   "source": []
  }
 ],
 "metadata": {
  "kernelspec": {
   "display_name": "Python 2",
   "language": "python",
   "name": "python2"
  },
  "language_info": {
   "codemirror_mode": {
    "name": "ipython",
    "version": 2
   },
   "file_extension": ".py",
   "mimetype": "text/x-python",
   "name": "python",
   "nbconvert_exporter": "python",
   "pygments_lexer": "ipython2",
   "version": "2.7.13"
  }
 },
 "nbformat": 4,
 "nbformat_minor": 2
}
