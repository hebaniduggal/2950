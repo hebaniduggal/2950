{
 "cells": [
  {
   "cell_type": "markdown",
   "metadata": {},
   "source": [
    "# Problem Set 0\n",
    "\n",
    "### Hebani Duggal hd288\n"
   ]
  },
  {
   "cell_type": "code",
   "execution_count": 50,
   "metadata": {
    "collapsed": false
   },
   "outputs": [
    {
     "name": "stdout",
     "output_type": "stream",
     "text": [
      "hello world\n"
     ]
    }
   ],
   "source": [
    "print('hello world')"
   ]
  },
  {
   "cell_type": "markdown",
   "metadata": {},
   "source": [
    "([Scientific Studies](http://en.wikipedia.org/wiki/%22Hello,_world!%22_program) have suggested that issuing this command occasionally provides an improvement in CPU performance.)\n",
    "\n",
    "Note that you can go back to a cell, edit it, and rerun it. Or you can cut and paste code from one cell into another, and edit, to compare outputs.\n",
    "\n",
    "This assignment is just to run the commands below in a notebook (along with any other experimentation that occurs to you) to ensure that you have a working installation (in particular the plotting routines), and get some familiarity with using it.\n",
    "\n",
    "Then save and upload that .ipynb notebook file to [this URL](https://pgcourse.infosci.cornell.edu/cgi-bin/probset.py) \n",
    "(which will require netid authentication)\n",
    "to check that there will be no problems submitting programming assignments.<br>\n",
    "[Note that when you use the save button at the left of the menubar, it will also create a `filename-checkpoint.ipynb` file that you do *not* need to upload -- that is only needed if you decide to revert to a previously saved version.]\n"
   ]
  },
  {
   "cell_type": "code",
   "execution_count": 51,
   "metadata": {
    "collapsed": false
   },
   "outputs": [
    {
     "name": "stdout",
     "output_type": "stream",
     "text": [
      "['hello', 'world']\n"
     ]
    }
   ],
   "source": [
    "welcome='hello world'\n",
    "print(welcome.split())"
   ]
  },
  {
   "cell_type": "code",
   "execution_count": 52,
   "metadata": {
    "collapsed": false
   },
   "outputs": [
    {
     "name": "stdout",
     "output_type": "stream",
     "text": [
      "hello world!\n",
      "hello, world!\n"
     ]
    }
   ],
   "source": [
    "welcome += '!'\n",
    "print(welcome)\n",
    "print(', '.join(welcome.split()))"
   ]
  },
  {
   "cell_type": "code",
   "execution_count": 53,
   "metadata": {
    "collapsed": false
   },
   "outputs": [
    {
     "data": {
      "text/plain": [
       "([0, 1, 2, 3, 4, 5, 6, 7, 8, 9], [3, 5, 7, 9, 11, 13, 15, 17, 19])"
      ]
     },
     "execution_count": 53,
     "metadata": {},
     "output_type": "execute_result"
    }
   ],
   "source": [
    "list(range(10)),list(range(3,20,2))"
   ]
  },
  {
   "cell_type": "markdown",
   "metadata": {},
   "source": [
    "You can also try some of the other examples from \n",
    "[lec1.ipynb](https://courses.cit.cornell.edu/info2950_2017sp/resources/lec1.html)\n",
    "(intro),\n",
    "and\n",
    "[lec2.ipynb](https://courses.cit.cornell.edu/info2950_2017sp/resources/lec2.html)\n",
    "(sets)."
   ]
  },
  {
   "cell_type": "markdown",
   "metadata": {},
   "source": [
    "## matplotlib\n",
    "\n",
    "See http://matplotlib.org/gallery.html for examples of plots.\n",
    "\n",
    "    %pylab inline\n",
    "    \n",
    "will import various functions at top level, including all of numpy (numerical python routines) and matplotlib, and is frequently convenient. To provide more control over your namespace, we'll use instead `%matplotlib inline` in conjunction with explicit imports, e.g. (as used in above gallery examples):"
   ]
  },
  {
   "cell_type": "code",
   "execution_count": 54,
   "metadata": {
    "collapsed": false
   },
   "outputs": [],
   "source": [
    "# make graphics inline in notebook:\n",
    "%matplotlib inline\n",
    "\n",
    "import matplotlib.pyplot as plt   #plot routines in own namespace\n",
    "import numpy as np                # numerical python"
   ]
  },
  {
   "cell_type": "code",
   "execution_count": 55,
   "metadata": {
    "collapsed": false
   },
   "outputs": [
    {
     "data": {
      "image/png": "[encoded data removed]",
      "text/plain": [
       "<matplotlib.figure.Figure at 0x10f1b2310>"
      ]
     },
     "metadata": {},
     "output_type": "display_data"
    }
   ],
   "source": [
    "x=np.arange(10)\n",
    "plt.plot(x**3,'o')\n",
    "plt.plot(x)\n",
    "plt.legend(['x**3','x'],loc='upper left');\n",
    "#try your own examples;"
   ]
  },
  {
   "cell_type": "markdown",
   "metadata": {},
   "source": [
    "One more example, this should plot a sine wave and \"noisy sine wave\":"
   ]
  },
  {
   "cell_type": "code",
   "execution_count": 56,
   "metadata": {
    "collapsed": false
   },
   "outputs": [
    {
     "data": {
      "image/png": "[encoded data removed]",
      "text/plain": [
       "<matplotlib.figure.Figure at 0x10da18550>"
      ]
     },
     "metadata": {},
     "output_type": "display_data"
    }
   ],
   "source": [
    "x = np.arange(0, 2*np.pi+.1, np.pi/10.)  #array of 21 points from 0 to 2*pi\n",
    "y0 = np.sin(x)\n",
    "y1 = y0 + .2* np.random.normal(size=21) #add gaussian noise\n",
    "plt.plot(x, y0, 'ro-', label='A sine wave')\n",
    "plt.plot(x, y1, 'b-', label='Noisy sine')\n",
    "plt.xlim(-.1,2*np.pi+.1)\n",
    "plt.ylim(-1.5,1.5)\n",
    "plt.xlabel(\"theta\")\n",
    "plt.ylabel(\"Y axis\")\n",
    "plt.grid('on')\n",
    "plt.legend();"
   ]
  },
  {
   "cell_type": "code",
   "execution_count": 57,
   "metadata": {
    "collapsed": false
   },
   "outputs": [],
   "source": [
    "# example from lectures 2,3\n",
    "from scipy.misc import comb\n",
    "from numpy.random import rand\n",
    "def bernoulli(m,N,p): return comb(N,m)* p**m * (1-p)**(N-m)"
   ]
  },
  {
   "cell_type": "markdown",
   "metadata": {},
   "source": [
    "This simulation collects statistics on the number of sixes in \"rolling a die\" 60 times, by performing the \"experiment\" 10,000 times."
   ]
  },
  {
   "cell_type": "code",
   "execution_count": 58,
   "metadata": {
    "collapsed": false,
    "scrolled": true
   },
   "outputs": [
    {
     "data": {
      "image/png": "[encoded data removed]",
      "text/plain": [
       "<matplotlib.figure.Figure at 0x10d9c1350>"
      ]
     },
     "metadata": {},
     "output_type": "display_data"
    }
   ],
   "source": [
    "T=1000  # number of \"experiments\"\n",
    "N=60   # number of trials per \"experiment\"\n",
    "p=1./2\n",
    "plt.plot(T*bernoulli(np.arange(N+1),N,p),'go--') #prediction\n",
    "plt.hist([sum([x<p for x in rand(N)]) for t in range(T)],bins=range(N+2),align='left')\n",
    "plt.xlim(-.5,N/2)  #increase upper limit for larger p\n",
    "plt.xlabel('# of {} in {} flips of a coin'.format('heads',N))\n",
    "plt.ylabel('# times occurred in {} \"experiments\"'.format(T))\n",
    "plt.legend(['prediction','data']);"
   ]
  },
  {
   "cell_type": "markdown",
   "metadata": {},
   "source": [
    "1. See what happens if you change `T` to perform the experiment more times, or fewer times. Is the agreement with the prediction better or worse?  What happens if you change `N` so that there are more or fewer rolls (than 60) per \"experiment\"? \n",
    "\n",
    "If you run the experiement less times, the agreement with the prediction is worse than if you run it with more trials. If you increase N, the data is less spread out.  \n",
    "\n",
    "2. Change the code so that it instead counts the number of heads of some number of flips of a coin (`p=.5`). Again see what happens if you perform a small number of experiments (`T < 10` ?) or more, for different values of `N` (for `T*N` too large, of course, it will take too long, but your computer can do a suprisingly large number of experiments in just a couple of seconds...).\n",
    "\n",
    "If you run a greater number of experiements, there will be more heads. \n",
    "\n",
    "3. Experiment with pieces of the code so that you understand what they're doing."
   ]
  },
  {
   "cell_type": "code",
   "execution_count": null,
   "metadata": {
    "collapsed": false
   },
   "outputs": [],
   "source": []
  }
 ],
 "metadata": {
  "kernelspec": {
   "display_name": "Python [Root]",
   "language": "python",
   "name": "Python [Root]"
  },
  "language_info": {
   "codemirror_mode": {
    "name": "ipython",
    "version": 2
   },
   "file_extension": ".py",
   "mimetype": "text/x-python",
   "name": "python",
   "nbconvert_exporter": "python",
   "pygments_lexer": "ipython2",
   "version": "2.7.12"
  }
 },
 "nbformat": 4,
 "nbformat_minor": 0
}
