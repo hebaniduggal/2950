{
 "cells": [
  {
   "cell_type": "markdown",
   "metadata": {},
   "source": [
    "# Problem Set 8"
   ]
  },
  {
   "cell_type": "markdown",
   "metadata": {},
   "source": [
    "## Tiffany Wang, tw292"
   ]
  },
  {
   "cell_type": "markdown",
   "metadata": {},
   "source": [
    "### Question 1"
   ]
  },
  {
   "cell_type": "markdown",
   "metadata": {},
   "source": [
    "#### Part A."
   ]
  },
  {
   "cell_type": "code",
   "execution_count": 14,
   "metadata": {
    "collapsed": false
   },
   "outputs": [
    {
     "name": "stdout",
     "output_type": "stream",
     "text": [
      "The expected number of steps to reach state 1 is 2.375\n",
      "The expected number of steps to reach state 5 is 9.0\n"
     ]
    }
   ],
   "source": [
    "zero = 1\n",
    "seven = 1/0.75\n",
    "four = 1/0.6\n",
    "six = 1/0.2\n",
    "two = 1/0.4\n",
    "three = 1/0.6\n",
    "print(\"The expected number of steps to reach state 1 is\",(zero*(0.5)/(2/3))+((zero+seven+two+three)*(0.5)*(0.25/0.75)/(2/3))) # weighted by probability\n",
    "print(\"The expected number of steps to reach state 5 is\",zero+seven+four+six)"
   ]
  },
  {
   "cell_type": "markdown",
   "metadata": {},
   "source": [
    "#### Part B."
   ]
  },
  {
   "cell_type": "code",
   "execution_count": 15,
   "metadata": {
    "collapsed": false
   },
   "outputs": [
    {
     "name": "stdout",
     "output_type": "stream",
     "text": [
      "a: The probability that after 6 steps you are in state 1 is 0.2016\n",
      "b: The probability that after 6 steps you are in state 3 is 0.04032000000000001\n",
      "c: The expected number of steps for the process to leave state 0 is 1.25\n",
      "d: The probability that we eventually hit state 3 is 0.25\n",
      "e: The probability that we never get to state 6 is 0.25\n"
     ]
    }
   ],
   "source": [
    "print('a: The probability that after 6 steps you are in state 1 is',((0.2**3)*(0.2)*(1**2))+(0.2*(1**5)))\n",
    "print('b: The probability that after 6 steps you are in state 3 is',((0.2**4)*(0.2))+((0.2)*0.2*(1**4)))\n",
    "print('c: The expected number of steps for the process to leave state 0 is',1/0.8)\n",
    "print('d: The probability that we eventually hit state 3 is',0.2/(1-0.2))\n",
    "print('e: The probability that we never get to state 6 is',0.2/(1-0.2))"
   ]
  },
  {
   "cell_type": "markdown",
   "metadata": {},
   "source": [
    "### Question 2"
   ]
  },
  {
   "cell_type": "markdown",
   "metadata": {},
   "source": [
    "#### Part A."
   ]
  },
  {
   "cell_type": "markdown",
   "metadata": {},
   "source": [
    "#### a)"
   ]
  },
  {
   "cell_type": "code",
   "execution_count": 16,
   "metadata": {
    "collapsed": false
   },
   "outputs": [],
   "source": [
    "import numpy as np\n",
    "Tm=np.array([[ 0.3  ,  0.205,  0.285,  0.21 ], #ACGT\n",
    "        [ 0.322,  0.298,  0.078,  0.302],\n",
    "        [ 0.248,  0.246,  0.298,  0.208],\n",
    "        [ 0.177,  0.239,  0.292,  0.292]])\n",
    "Tp=np.array([[ 0.18 ,  0.274,  0.426,  0.12 ],\n",
    "        [ 0.171,  0.367,  0.274,  0.188],\n",
    "        [ 0.161,  0.339,  0.375,  0.125],\n",
    "        [ 0.079,  0.355,  0.384,  0.182]])"
   ]
  },
  {
   "cell_type": "code",
   "execution_count": 17,
   "metadata": {
    "collapsed": false
   },
   "outputs": [
    {
     "name": "stdout",
     "output_type": "stream",
     "text": [
      "In the negative region, the probability is 0.000611758368\n",
      "In the positive region, the probability is 0.006643400164000002\n"
     ]
    }
   ],
   "source": [
    "ppos_A = 0.274*0.161*0.274*0.274\n",
    "ppos_T = 0.274*0.125*0.355*0.274\n",
    "pneg_A = 0.078*0.248*0.205*0.078\n",
    "pneg_T = 0.078*0.208*0.239*0.078\n",
    "print(\"In the negative region, the probability is\",pneg_A+pneg_T)\n",
    "print(\"In the positive region, the probability is\",ppos_A+ppos_T)"
   ]
  },
  {
   "cell_type": "markdown",
   "metadata": {},
   "source": [
    "#### b)"
   ]
  },
  {
   "cell_type": "code",
   "execution_count": 18,
   "metadata": {
    "collapsed": false
   },
   "outputs": [
    {
     "name": "stdout",
     "output_type": "stream",
     "text": [
      "p-(A) = 0.261886885989\n",
      "p-(C) = 0.246299776639\n",
      "p-(G) = 0.238891991547\n",
      "p-(T) = 0.252921345825\n",
      "\n",
      "p+(A) = 0.15467833005\n",
      "p+(C) = 0.34096516937\n",
      "p+(G) = 0.349841745522\n",
      "p+(T) = 0.154514755058\n"
     ]
    }
   ],
   "source": [
    "neg = Tm\n",
    "pos = Tp\n",
    "\n",
    "for i in range(5):\n",
    "    neg = np.dot(neg,neg)\n",
    "    pos = np.dot(pos,pos)\n",
    "\n",
    "print(\"p-(A) =\",neg[0][0])\n",
    "print(\"p-(C) =\",neg[0][1])\n",
    "print(\"p-(G) =\",neg[0][2])\n",
    "print(\"p-(T) =\",neg[0][3])\n",
    "print(\"\")\n",
    "print(\"p+(A) =\",pos[0][0])\n",
    "print(\"p+(C) =\",pos[0][1])\n",
    "print(\"p+(G) =\",pos[0][2])\n",
    "print(\"p+(T) =\",pos[0][3])"
   ]
  },
  {
   "cell_type": "markdown",
   "metadata": {},
   "source": [
    "#### Part B"
   ]
  },
  {
   "cell_type": "markdown",
   "metadata": {},
   "source": [
    "#### a)"
   ]
  },
  {
   "cell_type": "code",
   "execution_count": 19,
   "metadata": {
    "collapsed": false
   },
   "outputs": [
    {
     "name": "stdout",
     "output_type": "stream",
     "text": [
      "Positive scores mean the snippet was more likely to be generated by T+, and negative scores mean T-...\n",
      "CAGGGTGAGCCCCACTCATACATTCCATGCAGTTTCCAAGGTCCAGGAAG -7.10043055807\n",
      "TTGAGGTGCTTTTTGATGACCTTGTGAGGATACTCCCACCCATTGCCCCG -5.26638827597\n",
      "TGGTGGTCACCTCAGCTGGCGGCCCGCGAATGCTTGCCTCCAACAGGACT 4.72691257501\n",
      "TCAAAGGTAACCCAGCAGCTCTGAGTAGAACCTGGCTCATGTGCTCTGAA -7.23823745695\n",
      "GAATGGAGCCCCCACCAGCGGGATGATAGCTGGCCCCACGACCTCGAACG 5.39533242295\n",
      "CTGGGTGGCGCTGATCAACGCCTAGCCACCCCTGGGGTGGTGCGAACGCA 6.25675852097\n",
      "GAGGGGAACCCTCCGAACCTTGCCCGCTCGGCCACCTACAACGACGGGGG 9.02409482965\n",
      "AGGGGTTAACCAAATTTTCAGTCCCCCCCTATAGGACCAGGTCCTTGGCA -8.15382627522\n",
      "CGACGCCAGGCGTAATCTGGCGCCAGAGTCCTGGGGCGGCTCAGAGGGGT 9.97263862293\n",
      "TTATGCAATCATGGAATGCCTGCATGCCCGTTGGTCCATTTTCCCTGGAG -7.10883286807\n"
     ]
    }
   ],
   "source": [
    "def r_val(T_pos,T_min):\n",
    "    r=np.log2(T_pos)-np.log2(T_min)\n",
    "    return r\n",
    "\n",
    "ns = ['AA','AC','AG','AT','CA','CC','CG','CT','GA','GC','GG','GT','TA','TC','TG','TT']\n",
    "list_p = []\n",
    "list_m = []\n",
    "dict_p = {}\n",
    "dict_m = {}\n",
    "\n",
    "s1 = 'CAGGGTGAGCCCCACTCATACATTCCATGCAGTTTCCAAGGTCCAGGAAG'\n",
    "s2 = 'TTGAGGTGCTTTTTGATGACCTTGTGAGGATACTCCCACCCATTGCCCCG'\n",
    "s3 = 'TGGTGGTCACCTCAGCTGGCGGCCCGCGAATGCTTGCCTCCAACAGGACT'\n",
    "s4 = 'TCAAAGGTAACCCAGCAGCTCTGAGTAGAACCTGGCTCATGTGCTCTGAA'\n",
    "s5 = 'GAATGGAGCCCCCACCAGCGGGATGATAGCTGGCCCCACGACCTCGAACG'\n",
    "s6 = 'CTGGGTGGCGCTGATCAACGCCTAGCCACCCCTGGGGTGGTGCGAACGCA'\n",
    "s7 = 'GAGGGGAACCCTCCGAACCTTGCCCGCTCGGCCACCTACAACGACGGGGG'\n",
    "s8 = 'AGGGGTTAACCAAATTTTCAGTCCCCCCCTATAGGACCAGGTCCTTGGCA'\n",
    "s9 = 'CGACGCCAGGCGTAATCTGGCGCCAGAGTCCTGGGGCGGCTCAGAGGGGT'\n",
    "s10 = 'TTATGCAATCATGGAATGCCTGCATGCCCGTTGGTCCATTTTCCCTGGAG'\n",
    "\n",
    "all_s = [s1,s2,s3,s4,s5,s6,s7,s8,s9,s10]\n",
    "\n",
    "for num in Tp:\n",
    "    for a in num: \n",
    "        list_p.append(a)\n",
    "for num in Tm:\n",
    "    for a in num:\n",
    "        list_m.append(a)\n",
    "for x in range(len(list_p)):\n",
    "    dict_p[ns[x]] = list_p[x]\n",
    "    dict_m[ns[x]] = list_m[x]\n",
    "\n",
    "print(\"Positive scores mean the snippet was more likely to be generated by T+, and negative scores mean T-...\")\n",
    "    \n",
    "valP = 1\n",
    "valM = 1\n",
    "for s in all_s:\n",
    "    for a in range(len(s1)-1):\n",
    "        string = s[a:a+2]\n",
    "    #print(string)\n",
    "        if string in dict_p:\n",
    "            valP = valP*dict_p[string]\n",
    "        if string in dict_m:\n",
    "            valM = valM*dict_m[string]\n",
    "    print(s,r_val(valP,valM))\n",
    "    valP = 1\n",
    "    valM = 1      "
   ]
  },
  {
   "cell_type": "markdown",
   "metadata": {},
   "source": [
    "#### b)"
   ]
  },
  {
   "cell_type": "code",
   "execution_count": 20,
   "metadata": {
    "collapsed": false
   },
   "outputs": [
    {
     "name": "stdout",
     "output_type": "stream",
     "text": [
      "Log-odds Ratios for Snippet 1\n",
      "[-0.73696559416620622, 0.57989151117373416, -0.62327943227225824, -0.80735492205760417, -0.6820299186813209, 0.57080840641129582, -0.91306436322871898, -0.80735492205760417, -0.6820299186813209, -0.6820299186813209, -0.6820299186813209, -0.6820299186813209, -1.1638248019058943, -0.73696559416620622, -0.73696559416620622, 0.41855198345508077, -0.68381588764744139, 0.3951379418411391, 0.33157826492108178, -0.62327943227225824, -0.80735492205760417, -1.1638248019058943, 0.41855198345508077, 0.30046773238105112, 1.8126298640982785, 0.46262695779710411, 1.8126298640982785, 0.46262695779710411, 1.8126298640982785, 0.46262695779710411, 0.30046773238105112, 1.8126298640982785, 0.33157826492108178, 0.33157826492108178, 0.33157826492108178, 0.46262695779710411, -0.91306436322871898, 0.41855198345508077, 0.30046773238105112, -0.91306436322871898, 0.41855198345508077, 0.30046773238105112, 1.8126298640982785, 0.46262695779710411, 0.30046773238105112, -0.91306436322871898, 0.57989151117373416, 0.33157826492108178, 0.46262695779710411]\n",
      "\n",
      "From this list of log-odds ratios, you can see that the most likely transition point for snippet 1 is index 21-22 [-1.1638248019058943, 0.41855198345508077] because the string starting at index 22 is the longest string of positive log-odds ratios (and is a sign reversal from the negative log-odds ratio of index 21).\n",
      "\n",
      "Log-odds Ratios for Snippet 2\n",
      "[-0.80735492205760417, 0.57080840641129582, 1.8126298640982785, 0.46262695779710411, 1.8126298640982785, 0.33157826492108178, 0.46262695779710411, 0.30046773238105112, -0.91306436322871898, -0.73696559416620622, 0.57989151117373416, 0.33157826492108178, 0.33157826492108178, 0.46262695779710411, 1.8126298640982785, 0.46262695779710411, 0.30046773238105112, 0.30046773238105112, 0.30046773238105112, -0.91306436322871898, -0.73696559416620622, -0.80735492205760417, -1.1638248019058943, -0.80735492205760417, -1.1638248019058943, -0.73696559416620622, -0.73696559416620622, -0.73696559416620622, 0.57989151117373416, -0.73465543347900519, -0.6820299186813209, -0.6820299186813209, -0.6820299186813209, -0.6820299186813209, -0.6820299186813209, -0.6820299186813209, 0.57080840641129582, -0.91306436322871898, -0.80735492205760417, -0.6820299186813209, 0.3951379418411391, -0.73465543347900519, -0.6820299186813209, -1.1638248019058943, 0.57989151117373416, -0.62327943227225824, 0.57989151117373416, 0.33157826492108178, -0.73465543347900519]\n",
      "\n",
      "From this list of log-odds ratios, you can see that the most likely transition point for snippet 2 is index 18-19 [0.30046773238105112, -0.91306436322871898] because the string starting at index 19 is the longest string of negative log-odds ratios (and is a sign reversal from the positive log-odds ratio of index 19).\n"
     ]
    }
   ],
   "source": [
    "b1 = 'AAGATTCATTTTTAAACTGGATACCGCGCGCCGGGGCACCACCGCCAGGC'\n",
    "b2 = 'ATCGCGGCCAAGGGCGCCCCAATATAAAAGTTTTTTTCATTGTTAGAGGT'\n",
    "\n",
    "\n",
    "vals1 = []\n",
    "keys1 = []\n",
    "vals2 = []\n",
    "keys2 = []\n",
    "val1 = 0\n",
    "val2 = 0\n",
    "diffs1 = []\n",
    "diffs2 = []\n",
    "#print(dict_p)\n",
    "for a in range(len(b1)-1):\n",
    "    string1 = b1[a:a+2]\n",
    "    string2 = b2[a:a+2]\n",
    "    if string1 in dict_p:\n",
    "        val1 = np.log2(dict_p[string1]/dict_m[string1])\n",
    "        val2 = np.log2(dict_p[string2]/dict_m[string2])\n",
    "        vals1.append(val1), keys1.append(string1) \n",
    "        vals2.append(val2),keys2.append(string2)\n",
    "print(\"Log-odds Ratios for Snippet 1\")\n",
    "print(vals1)\n",
    "print(\"\")\n",
    "print(\"From this list of log-odds ratios, you can see that the most likely transition point for snippet 1 is index 21-22\",\n",
    "     vals1[21:23],\"because the string starting at index 22 is the longest string of positive log-odds ratios (and is\",\n",
    "     \"a sign reversal from the negative log-odds ratio of index 21).\")\n",
    "print(\"\")\n",
    "print(\"Log-odds Ratios for Snippet 2\")\n",
    "print(vals2)\n",
    "print(\"\")\n",
    "print(\"From this list of log-odds ratios, you can see that the most likely transition point for snippet 2 is index 18-19\",\n",
    "     vals2[18:20],\"because the string starting at index 19 is the longest string of negative log-odds ratios (and is\",\n",
    "     \"a sign reversal from the positive log-odds ratio of index 19).\")"
   ]
  },
  {
   "cell_type": "markdown",
   "metadata": {},
   "source": [
    "### Question 3"
   ]
  },
  {
   "cell_type": "code",
   "execution_count": 21,
   "metadata": {
    "collapsed": false
   },
   "outputs": [],
   "source": [
    "import numpy as np\n",
    "\n",
    "def viterbi(T,e,w,snames,O):\n",
    "    states=range(len(snames))  #label states as integers\n",
    "    #initialize probability for first observation:\n",
    "    v = [w[j]*e[j][O[0]] for j in states]\n",
    "    path=snames   # initialize paths to state names\n",
    "    for o in O[1:]:\n",
    "    #  nv[j]=v[i]*T[i,j] array with probabilities for arriving from i to j:\n",
    "        nv = [v*T[:,j] for j in states]\n",
    "    #  update maximum probability to state i for next step:\n",
    "        v = [max(nv[j])*e[j][o] for j in states]\n",
    "    #  path[j] keeps track of max prob path to get to state j:\n",
    "        path = [path[np.argmax(nv[j])] + snames[j] for j in states]\n",
    "    return path[np.argmax(v)],max(v)  #return path to max probability final state"
   ]
  },
  {
   "cell_type": "markdown",
   "metadata": {},
   "source": [
    "#### Part A."
   ]
  },
  {
   "cell_type": "code",
   "execution_count": 22,
   "metadata": {
    "collapsed": false
   },
   "outputs": [
    {
     "name": "stdout",
     "output_type": "stream",
     "text": [
      "observed: 666654\n",
      "inferred: ('FLLLFF', 1.546875e-05)\n"
     ]
    }
   ],
   "source": [
    "O='666654'\n",
    "\n",
    "T=np.array([[.75,.25],[.4,.6]])\n",
    "snames=['F','L']\n",
    "\n",
    "e = [{str(o): 1/6. for o in range(1,7)},\n",
    "     {str(o): 1/10. if o<6 else 1/2. for o in range(1,7) }]\n",
    "\n",
    "w=[.99,.01]\n",
    "\n",
    "print ('observed:',O)  \n",
    "print ('inferred:',viterbi(T,e,w,snames,O))"
   ]
  },
  {
   "cell_type": "markdown",
   "metadata": {},
   "source": [
    "#### Part B."
   ]
  },
  {
   "cell_type": "code",
   "execution_count": 23,
   "metadata": {
    "collapsed": false
   },
   "outputs": [
    {
     "name": "stdout",
     "output_type": "stream",
     "text": [
      "Part i:\n",
      "The expected length of number of consecutive states in hidden F state is 4.0\n",
      "The expected length of number of consecutive states in hidden L state is 2.5\n",
      "Part ii:\n",
      "That would indicate a transition matrix of [[ 0.98  0.02]\n",
      " [ 0.05  0.95]]\n"
     ]
    }
   ],
   "source": [
    "print(\"Part i:\")\n",
    "print(\"The expected length of number of consecutive states in hidden F state is\",1/0.25)\n",
    "print(\"The expected length of number of consecutive states in hidden L state is\",1/0.4)\n",
    "\n",
    "fprob = 1/50\n",
    "lprob = 1/20\n",
    "T_2 = np.array([[1-fprob,fprob],[lprob,1-lprob]])\n",
    "\n",
    "print(\"Part ii:\")\n",
    "print(\"That would indicate a transition matrix of\",T_2)"
   ]
  },
  {
   "cell_type": "code",
   "execution_count": null,
   "metadata": {
    "collapsed": true
   },
   "outputs": [],
   "source": []
  }
 ],
 "metadata": {
  "anaconda-cloud": {},
  "kernelspec": {
   "display_name": "Python 2",
   "language": "python",
   "name": "python2"
  },
  "language_info": {
   "codemirror_mode": {
    "name": "ipython",
    "version": 2
   },
   "file_extension": ".py",
   "mimetype": "text/x-python",
   "name": "python",
   "nbconvert_exporter": "python",
   "pygments_lexer": "ipython2",
   "version": "2.7.13"
  }
 },
 "nbformat": 4,
 "nbformat_minor": 1
}
